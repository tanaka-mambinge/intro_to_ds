{
 "cells": [
  {
   "cell_type": "markdown",
   "id": "f3b7dd96-6370-4fcb-a273-c56b6ac509bd",
   "metadata": {
    "tags": []
   },
   "source": [
    "# Intro to machine Learning\n",
    "\n",
    "- It is a subfield of Artificial Intelligence that involves the development of algorithms and statistical models that enable computers to learn from data without being explicitly programmed.\n",
    "- When we say that a computer is learning from data without being explicitly programmed, it means that we are not giving the computer a set of rules or instructions to follow for a specific task. Instead, we are providing the computer with a large amount of data and allowing it to learn patterns and relationships within the data on its own. \n",
    "- The goal of Machine Learning is to enable computers to automatically improve their performance on a specific task by learning from data.\n",
    "\n",
    "\n",
    "## Machine Learning can be divided into three main categories:\n",
    "Supervised Learning, Unsupervised Learning, and Reinforcement Learning.\n",
    "\n",
    "- Supervised Learning involves training a model on labeled data, where the input data has a corresponding output or target variable. The goal of Supervised Learning is to learn a mapping function from the input variables to the output variable.\n",
    "- Unsupervised Learning involves training a model on unlabeled data, where the input data does not have a corresponding output or target variable. The goal of Unsupervised Learning is to find patterns or structure in the data.\n",
    "- Reinforcement Learning involves training a model to make decisions based on feedback from the environment.   Machine Learning is used in a wide range of applications, including image and speech recognition, natural language processing, recommendation systems, and predictive analytics.\n",
    "\n",
    "## Popular algorithms\n",
    "\n",
    "- Supervised Learning - Linear Regression, Logistic Regression, Decision Trees, Random Forests, and Neural Networks. Examples of problems that can be solved using Supervised Learning include predicting housing prices, classifying emails as spam or not spam, and recognizing handwritten digits.\n",
    "- Unsupervised Learning - Clustering, Principal Component Analysis (PCA), and Association Rule Mining. Examples of problems that can be solved using Unsupervised Learning include grouping customers based on their purchasing behavior, identifying topics in a large collection of documents, and detecting anomalies in network traffic."
   ]
  },
  {
   "cell_type": "markdown",
   "id": "8e5f7ad0-ff13-439b-a13c-6995f3231462",
   "metadata": {},
   "source": [
    "### Installing libraries"
   ]
  },
  {
   "cell_type": "code",
   "execution_count": null,
   "id": "36608abf-a670-47f9-9587-df29ad6e31fa",
   "metadata": {},
   "outputs": [],
   "source": [
    "!pip install -U scikit-learn"
   ]
  },
  {
   "cell_type": "markdown",
   "id": "6aad838c-2a71-42f1-a762-d7866da328a5",
   "metadata": {},
   "source": [
    "### Importing libraries"
   ]
  },
  {
   "cell_type": "code",
   "execution_count": 1,
   "id": "34a63421-2577-4e5a-a1d5-259bd57ed215",
   "metadata": {
    "tags": []
   },
   "outputs": [],
   "source": [
    "import pandas as pd\n",
    "import numpy as np\n",
    "from sklearn.linear_model import LinearRegression"
   ]
  },
  {
   "cell_type": "markdown",
   "id": "324476e2-39f5-479b-bd94-d2927baec204",
   "metadata": {
    "tags": []
   },
   "source": [
    "### Loading dataset"
   ]
  },
  {
   "cell_type": "code",
   "execution_count": 2,
   "id": "62fe8702-e630-47ae-88b5-79da322f0bc0",
   "metadata": {
    "tags": []
   },
   "outputs": [],
   "source": [
    "df = pd.read_csv(\"data/Adidas US Sales Datasets.csv\")"
   ]
  },
  {
   "cell_type": "markdown",
   "id": "f5d77832-4e87-4030-b433-0855c61edc42",
   "metadata": {},
   "source": [
    "### Feature selection\n",
    "\n",
    "The process of selecting a subset of relevant features (or variables) from a larger set of features in a dataset. The goal of feature selection is to improve the performance of a machine learning model by reducing the number of features used in the model. This can help to reduce overfitting, improve model interpretability, and reduce the computational cost of training the model."
   ]
  },
  {
   "cell_type": "code",
   "execution_count": 3,
   "id": "284ae14b-6c4b-4284-93ef-57c47ec1cd83",
   "metadata": {
    "tags": []
   },
   "outputs": [
    {
     "data": {
      "text/html": [
       "<div>\n",
       "<style scoped>\n",
       "    .dataframe tbody tr th:only-of-type {\n",
       "        vertical-align: middle;\n",
       "    }\n",
       "\n",
       "    .dataframe tbody tr th {\n",
       "        vertical-align: top;\n",
       "    }\n",
       "\n",
       "    .dataframe thead th {\n",
       "        text-align: right;\n",
       "    }\n",
       "</style>\n",
       "<table border=\"1\" class=\"dataframe\">\n",
       "  <thead>\n",
       "    <tr style=\"text-align: right;\">\n",
       "      <th></th>\n",
       "      <th>Retailer</th>\n",
       "      <th>Retailer ID</th>\n",
       "      <th>Invoice Date</th>\n",
       "      <th>Region</th>\n",
       "      <th>State</th>\n",
       "      <th>City</th>\n",
       "      <th>Product</th>\n",
       "      <th>Price per Unit</th>\n",
       "      <th>Units Sold</th>\n",
       "      <th>Total Sales</th>\n",
       "      <th>Operating Profit</th>\n",
       "      <th>Operating Margin</th>\n",
       "      <th>Sales Method</th>\n",
       "    </tr>\n",
       "  </thead>\n",
       "  <tbody>\n",
       "    <tr>\n",
       "      <th>0</th>\n",
       "      <td>Foot Locker</td>\n",
       "      <td>1185732</td>\n",
       "      <td>1/1/2020</td>\n",
       "      <td>Northeast</td>\n",
       "      <td>New York</td>\n",
       "      <td>New York</td>\n",
       "      <td>Men's Street Footwear</td>\n",
       "      <td>$50.00</td>\n",
       "      <td>1,200</td>\n",
       "      <td>$600,000</td>\n",
       "      <td>$300,000</td>\n",
       "      <td>50%</td>\n",
       "      <td>In-store</td>\n",
       "    </tr>\n",
       "    <tr>\n",
       "      <th>1</th>\n",
       "      <td>Foot Locker</td>\n",
       "      <td>1185732</td>\n",
       "      <td>1/2/2020</td>\n",
       "      <td>Northeast</td>\n",
       "      <td>New York</td>\n",
       "      <td>New York</td>\n",
       "      <td>Men's Athletic Footwear</td>\n",
       "      <td>$50.00</td>\n",
       "      <td>1,000</td>\n",
       "      <td>$500,000</td>\n",
       "      <td>$150,000</td>\n",
       "      <td>30%</td>\n",
       "      <td>In-store</td>\n",
       "    </tr>\n",
       "    <tr>\n",
       "      <th>2</th>\n",
       "      <td>Foot Locker</td>\n",
       "      <td>1185732</td>\n",
       "      <td>1/3/2020</td>\n",
       "      <td>Northeast</td>\n",
       "      <td>New York</td>\n",
       "      <td>New York</td>\n",
       "      <td>Women's Street Footwear</td>\n",
       "      <td>$40.00</td>\n",
       "      <td>1,000</td>\n",
       "      <td>$400,000</td>\n",
       "      <td>$140,000</td>\n",
       "      <td>35%</td>\n",
       "      <td>In-store</td>\n",
       "    </tr>\n",
       "    <tr>\n",
       "      <th>3</th>\n",
       "      <td>Foot Locker</td>\n",
       "      <td>1185732</td>\n",
       "      <td>1/4/2020</td>\n",
       "      <td>Northeast</td>\n",
       "      <td>New York</td>\n",
       "      <td>New York</td>\n",
       "      <td>Women's Athletic Footwear</td>\n",
       "      <td>$45.00</td>\n",
       "      <td>850</td>\n",
       "      <td>$382,500</td>\n",
       "      <td>$133,875</td>\n",
       "      <td>35%</td>\n",
       "      <td>In-store</td>\n",
       "    </tr>\n",
       "    <tr>\n",
       "      <th>4</th>\n",
       "      <td>Foot Locker</td>\n",
       "      <td>1185732</td>\n",
       "      <td>1/5/2020</td>\n",
       "      <td>Northeast</td>\n",
       "      <td>New York</td>\n",
       "      <td>New York</td>\n",
       "      <td>Men's Apparel</td>\n",
       "      <td>$60.00</td>\n",
       "      <td>900</td>\n",
       "      <td>$540,000</td>\n",
       "      <td>$162,000</td>\n",
       "      <td>30%</td>\n",
       "      <td>In-store</td>\n",
       "    </tr>\n",
       "  </tbody>\n",
       "</table>\n",
       "</div>"
      ],
      "text/plain": [
       "      Retailer  Retailer ID Invoice Date     Region     State      City  \\\n",
       "0  Foot Locker      1185732     1/1/2020  Northeast  New York  New York   \n",
       "1  Foot Locker      1185732     1/2/2020  Northeast  New York  New York   \n",
       "2  Foot Locker      1185732     1/3/2020  Northeast  New York  New York   \n",
       "3  Foot Locker      1185732     1/4/2020  Northeast  New York  New York   \n",
       "4  Foot Locker      1185732     1/5/2020  Northeast  New York  New York   \n",
       "\n",
       "                     Product Price per Unit Units Sold Total Sales  \\\n",
       "0      Men's Street Footwear        $50.00       1,200   $600,000    \n",
       "1    Men's Athletic Footwear        $50.00       1,000   $500,000    \n",
       "2    Women's Street Footwear        $40.00       1,000   $400,000    \n",
       "3  Women's Athletic Footwear        $45.00         850   $382,500    \n",
       "4              Men's Apparel        $60.00         900   $540,000    \n",
       "\n",
       "  Operating Profit Operating Margin Sales Method  \n",
       "0        $300,000               50%     In-store  \n",
       "1        $150,000               30%     In-store  \n",
       "2        $140,000               35%     In-store  \n",
       "3        $133,875               35%     In-store  \n",
       "4        $162,000               30%     In-store  "
      ]
     },
     "execution_count": 3,
     "metadata": {},
     "output_type": "execute_result"
    }
   ],
   "source": [
    "df.head()"
   ]
  },
  {
   "cell_type": "code",
   "execution_count": null,
   "id": "421b3367-a7cc-44e1-b94a-cf701b495dc4",
   "metadata": {},
   "outputs": [],
   "source": [
    " # Read in the data df =\n",
    "pd.read_csv('data.csv')  # Split the data into training and\n",
    "testing sets X_train = df[['feature1', 'feature2',\n",
    "'feature3']] y_train = df['target'] X_test = df[['feature1',\n",
    "'feature2', 'feature3']] y_test = df['target']  # Create the\n",
    "linear regression model model = LinearRegression()  # Train\n",
    "the model on the training data model.fit(X_train, y_train)\n",
    "# Make predictions on the testing data y_pred =\n",
    "model.predict(X_test)  # Evaluate the model's performance\n",
    "score = model.score(X_test, y_test) print('Model score:',\n",
    "score) ```  This code assumes that you have a CSV file\n",
    "called 'data.csv' with columns for the features and the\n",
    "target variable. You'll need to replace 'feature1',\n",
    "'feature2', 'feature3', and 'target' with the actual column\n",
    "names in your data. Let me know if you have any questions or\n",
    "if you would like me to explain anything in more detail!\n"
   ]
  }
 ],
 "metadata": {
  "kernelspec": {
   "display_name": "Python 3 (ipykernel)",
   "language": "python",
   "name": "python3"
  },
  "language_info": {
   "codemirror_mode": {
    "name": "ipython",
    "version": 3
   },
   "file_extension": ".py",
   "mimetype": "text/x-python",
   "name": "python",
   "nbconvert_exporter": "python",
   "pygments_lexer": "ipython3",
   "version": "3.10.6"
  }
 },
 "nbformat": 4,
 "nbformat_minor": 5
}
