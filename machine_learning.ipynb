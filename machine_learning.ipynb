{
 "cells": [
  {
   "cell_type": "markdown",
   "id": "f3b7dd96-6370-4fcb-a273-c56b6ac509bd",
   "metadata": {
    "tags": []
   },
   "source": [
    "# Intro to machine Learning\n",
    "\n",
    "- It is a subfield of Artificial Intelligence that involves the development of algorithms and statistical models that enable computers to learn from data without being explicitly programmed.\n",
    "- When we say that a computer is learning from data without being explicitly programmed, it means that we are not giving the computer a set of rules or instructions to follow for a specific task. Instead, we are providing the computer with a large amount of data and allowing it to learn patterns and relationships within the data on its own. \n",
    "- The goal of Machine Learning is to enable computers to automatically improve their performance on a specific task by learning from data.\n",
    "\n",
    "\n",
    "## Machine Learning can be divided into three main categories:\n",
    "Supervised Learning, Unsupervised Learning, and Reinforcement Learning.\n",
    "\n",
    "- Supervised Learning involves training a model on labeled data, where the input data has a corresponding output or target variable. The goal of Supervised Learning is to learn a mapping function from the input variables to the output variable.\n",
    "- Unsupervised Learning involves training a model on unlabeled data, where the input data does not have a corresponding output or target variable. The goal of Unsupervised Learning is to find patterns or structure in the data.\n",
    "- Reinforcement Learning involves training a model to make decisions based on feedback from the environment.   Machine Learning is used in a wide range of applications, including image and speech recognition, natural language processing, recommendation systems, and predictive analytics.\n",
    "\n",
    "## Popular algorithms\n",
    "\n",
    "- Supervised Learning - Linear Regression, Logistic Regression, Decision Trees, Random Forests, and Neural Networks. Examples of problems that can be solved using Supervised Learning include predicting housing prices, classifying emails as spam or not spam, and recognizing handwritten digits.\n",
    "- Unsupervised Learning - Clustering, Principal Component Analysis (PCA), and Association Rule Mining. Examples of problems that can be solved using Unsupervised Learning include grouping customers based on their purchasing behavior, identifying topics in a large collection of documents, and detecting anomalies in network traffic."
   ]
  },
  {
   "cell_type": "markdown",
   "id": "6aad838c-2a71-42f1-a762-d7866da328a5",
   "metadata": {
    "tags": []
   },
   "source": [
    "### Importing libraries"
   ]
  },
  {
   "cell_type": "code",
   "execution_count": 54,
   "id": "34a63421-2577-4e5a-a1d5-259bd57ed215",
   "metadata": {
    "tags": []
   },
   "outputs": [],
   "source": [
    "import numpy as np\n",
    "import pandas as pd\n",
    "from sklearn.linear_model import LinearRegression\n",
    "from sklearn.preprocessing import LabelEncoder"
   ]
  },
  {
   "cell_type": "markdown",
   "id": "324476e2-39f5-479b-bd94-d2927baec204",
   "metadata": {
    "tags": []
   },
   "source": [
    "### Loading dataset"
   ]
  },
  {
   "cell_type": "code",
   "execution_count": 48,
   "id": "62fe8702-e630-47ae-88b5-79da322f0bc0",
   "metadata": {
    "tags": []
   },
   "outputs": [],
   "source": [
    "df = pd.read_csv(\"data/House_Rent_Dataset.csv\")"
   ]
  },
  {
   "cell_type": "markdown",
   "id": "f5d77832-4e87-4030-b433-0855c61edc42",
   "metadata": {},
   "source": [
    "### Feature selection\n",
    "\n",
    "The process of selecting a subset of relevant features (or variables) from a larger set of features in a dataset. The goal of feature selection is to improve the performance of a machine learning model by reducing the number of features used in the model. This can help to reduce overfitting, improve model interpretability, and reduce the computational cost of training the model."
   ]
  },
  {
   "cell_type": "markdown",
   "id": "7eff0317-440a-40b3-967f-b9a8274dad23",
   "metadata": {},
   "source": [
    "#### Attribute description\n",
    "\n",
    "- BHK: Number of Bedrooms, Hall, Kitchen.\n",
    "- Rent: Rent of the Houses/Apartments/Flats.\n",
    "- Size: Size of the Houses/Apartments/Flats in Square Feet.\n",
    "- Floor: Houses/Apartments/Flats situated in which Floor and Total Number of Floors (Example: Ground out of 2, 3 out of 5, etc.)\n",
    "- Area Type: Size of the Houses/Apartments/Flats calculated on either Super Area or Carpet Area or Build Area.\n",
    "- Area Locality: Locality of the Houses/Apartments/Flats.\n",
    "- City: City where the Houses/Apartments/Flats are Located.\n",
    "- Furnishing Status: Furnishing Status of the Houses/Apartments/Flats, either it is Furnished or Semi-Furnished or Unfurnished.\n",
    "- Tenant Preferred: Type of Tenant Preferred by the Owner or Agent.\n",
    "- Bathroom: Number of Bathrooms.\n",
    "- Point of Contact: Whom should you contact for more information regarding the Houses/Apartments/Flats."
   ]
  },
  {
   "cell_type": "code",
   "execution_count": 49,
   "id": "284ae14b-6c4b-4284-93ef-57c47ec1cd83",
   "metadata": {
    "tags": []
   },
   "outputs": [
    {
     "data": {
      "text/html": [
       "<div>\n",
       "<style scoped>\n",
       "    .dataframe tbody tr th:only-of-type {\n",
       "        vertical-align: middle;\n",
       "    }\n",
       "\n",
       "    .dataframe tbody tr th {\n",
       "        vertical-align: top;\n",
       "    }\n",
       "\n",
       "    .dataframe thead th {\n",
       "        text-align: right;\n",
       "    }\n",
       "</style>\n",
       "<table border=\"1\" class=\"dataframe\">\n",
       "  <thead>\n",
       "    <tr style=\"text-align: right;\">\n",
       "      <th></th>\n",
       "      <th>Posted On</th>\n",
       "      <th>BHK</th>\n",
       "      <th>Rent</th>\n",
       "      <th>Size</th>\n",
       "      <th>Floor</th>\n",
       "      <th>Area Type</th>\n",
       "      <th>Area Locality</th>\n",
       "      <th>City</th>\n",
       "      <th>Furnishing Status</th>\n",
       "      <th>Tenant Preferred</th>\n",
       "      <th>Bathroom</th>\n",
       "      <th>Point of Contact</th>\n",
       "    </tr>\n",
       "  </thead>\n",
       "  <tbody>\n",
       "    <tr>\n",
       "      <th>0</th>\n",
       "      <td>2022-05-18</td>\n",
       "      <td>2</td>\n",
       "      <td>10000</td>\n",
       "      <td>1100</td>\n",
       "      <td>Ground out of 2</td>\n",
       "      <td>Super Area</td>\n",
       "      <td>Bandel</td>\n",
       "      <td>Kolkata</td>\n",
       "      <td>Unfurnished</td>\n",
       "      <td>Bachelors/Family</td>\n",
       "      <td>2</td>\n",
       "      <td>Contact Owner</td>\n",
       "    </tr>\n",
       "    <tr>\n",
       "      <th>1</th>\n",
       "      <td>2022-05-13</td>\n",
       "      <td>2</td>\n",
       "      <td>20000</td>\n",
       "      <td>800</td>\n",
       "      <td>1 out of 3</td>\n",
       "      <td>Super Area</td>\n",
       "      <td>Phool Bagan, Kankurgachi</td>\n",
       "      <td>Kolkata</td>\n",
       "      <td>Semi-Furnished</td>\n",
       "      <td>Bachelors/Family</td>\n",
       "      <td>1</td>\n",
       "      <td>Contact Owner</td>\n",
       "    </tr>\n",
       "    <tr>\n",
       "      <th>2</th>\n",
       "      <td>2022-05-16</td>\n",
       "      <td>2</td>\n",
       "      <td>17000</td>\n",
       "      <td>1000</td>\n",
       "      <td>1 out of 3</td>\n",
       "      <td>Super Area</td>\n",
       "      <td>Salt Lake City Sector 2</td>\n",
       "      <td>Kolkata</td>\n",
       "      <td>Semi-Furnished</td>\n",
       "      <td>Bachelors/Family</td>\n",
       "      <td>1</td>\n",
       "      <td>Contact Owner</td>\n",
       "    </tr>\n",
       "    <tr>\n",
       "      <th>3</th>\n",
       "      <td>2022-07-04</td>\n",
       "      <td>2</td>\n",
       "      <td>10000</td>\n",
       "      <td>800</td>\n",
       "      <td>1 out of 2</td>\n",
       "      <td>Super Area</td>\n",
       "      <td>Dumdum Park</td>\n",
       "      <td>Kolkata</td>\n",
       "      <td>Unfurnished</td>\n",
       "      <td>Bachelors/Family</td>\n",
       "      <td>1</td>\n",
       "      <td>Contact Owner</td>\n",
       "    </tr>\n",
       "    <tr>\n",
       "      <th>4</th>\n",
       "      <td>2022-05-09</td>\n",
       "      <td>2</td>\n",
       "      <td>7500</td>\n",
       "      <td>850</td>\n",
       "      <td>1 out of 2</td>\n",
       "      <td>Carpet Area</td>\n",
       "      <td>South Dum Dum</td>\n",
       "      <td>Kolkata</td>\n",
       "      <td>Unfurnished</td>\n",
       "      <td>Bachelors</td>\n",
       "      <td>1</td>\n",
       "      <td>Contact Owner</td>\n",
       "    </tr>\n",
       "  </tbody>\n",
       "</table>\n",
       "</div>"
      ],
      "text/plain": [
       "    Posted On  BHK   Rent  Size            Floor    Area Type  \\\n",
       "0  2022-05-18    2  10000  1100  Ground out of 2   Super Area   \n",
       "1  2022-05-13    2  20000   800       1 out of 3   Super Area   \n",
       "2  2022-05-16    2  17000  1000       1 out of 3   Super Area   \n",
       "3  2022-07-04    2  10000   800       1 out of 2   Super Area   \n",
       "4  2022-05-09    2   7500   850       1 out of 2  Carpet Area   \n",
       "\n",
       "              Area Locality     City Furnishing Status  Tenant Preferred  \\\n",
       "0                    Bandel  Kolkata       Unfurnished  Bachelors/Family   \n",
       "1  Phool Bagan, Kankurgachi  Kolkata    Semi-Furnished  Bachelors/Family   \n",
       "2   Salt Lake City Sector 2  Kolkata    Semi-Furnished  Bachelors/Family   \n",
       "3               Dumdum Park  Kolkata       Unfurnished  Bachelors/Family   \n",
       "4             South Dum Dum  Kolkata       Unfurnished         Bachelors   \n",
       "\n",
       "   Bathroom Point of Contact  \n",
       "0         2    Contact Owner  \n",
       "1         1    Contact Owner  \n",
       "2         1    Contact Owner  \n",
       "3         1    Contact Owner  \n",
       "4         1    Contact Owner  "
      ]
     },
     "execution_count": 49,
     "metadata": {},
     "output_type": "execute_result"
    }
   ],
   "source": [
    "df.head()"
   ]
  },
  {
   "cell_type": "code",
   "execution_count": 50,
   "id": "142aa1a5-7860-4871-8aab-3741e2f54595",
   "metadata": {
    "jupyter": {
     "source_hidden": true
    },
    "tags": []
   },
   "outputs": [],
   "source": [
    "remove_cols = [\n",
    "    \"Posted On\",\n",
    "    \"Point of Contact\",\n",
    "    \"Floor\",\n",
    "    \"Area Locality\",\n",
    "]\n",
    "df.drop(\n",
    "    remove_cols,\n",
    "    axis=1,\n",
    "    inplace=True,\n",
    ")"
   ]
  },
  {
   "cell_type": "code",
   "execution_count": 51,
   "id": "91582782-5ca9-4032-9bb8-187b765c799e",
   "metadata": {
    "tags": []
   },
   "outputs": [
    {
     "name": "stdout",
     "output_type": "stream",
     "text": [
      "Area Type - ['Super Area', 'Carpet Area', 'Built Area']\n",
      "City - ['Kolkata', 'Mumbai', 'Bangalore', 'Delhi', 'Chennai', 'Hyderabad']\n",
      "Furnishing Status - ['Unfurnished', 'Semi-Furnished', 'Furnished']\n",
      "Tenant Preferred - ['Bachelors/Family', 'Bachelors', 'Family']\n"
     ]
    }
   ],
   "source": [
    "for col in [\n",
    "    \"Area Type\",\n",
    "    \"City\",\n",
    "    \"Furnishing Status\",\n",
    "    \"Tenant Preferred\",\n",
    "]:\n",
    "    print(col, \"-\", list(df[col].unique()))"
   ]
  },
  {
   "cell_type": "markdown",
   "id": "185dac67-6eac-484c-b232-5dabb468fcfd",
   "metadata": {
    "tags": []
   },
   "source": [
    "Our goal is predict the rent using given features. So the rent column becomes the target column."
   ]
  },
  {
   "cell_type": "code",
   "execution_count": 52,
   "id": "d0211ff3-fd91-4e75-a257-98b3093a4d3c",
   "metadata": {
    "tags": []
   },
   "outputs": [
    {
     "data": {
      "text/plain": [
       "Index(['BHK', 'Rent', 'Size', 'Area Type', 'City', 'Furnishing Status',\n",
       "       'Tenant Preferred', 'Bathroom'],\n",
       "      dtype='object')"
      ]
     },
     "execution_count": 52,
     "metadata": {},
     "output_type": "execute_result"
    }
   ],
   "source": [
    "df.columns"
   ]
  },
  {
   "cell_type": "markdown",
   "id": "78dc0c0d-23ac-4bd5-9b30-777a5f1b9aff",
   "metadata": {},
   "source": [
    "NB: City could be better encoded by using the coordinates of each city. It helps capture location information that one-hot encoding is not able to capture."
   ]
  },
  {
   "cell_type": "markdown",
   "id": "2f3c47e9-ac17-4cdb-afe4-c575848864a7",
   "metadata": {},
   "source": [
    "Scikit can also handle the encoding. You can check that out!!"
   ]
  },
  {
   "cell_type": "code",
   "execution_count": 63,
   "id": "b8921739-8b0f-4a85-8087-500a0530775f",
   "metadata": {
    "tags": []
   },
   "outputs": [],
   "source": [
    "df_one_hot = pd.get_dummies(df[[\"City\", \"Tenant Preferred\"]])"
   ]
  },
  {
   "cell_type": "code",
   "execution_count": 64,
   "id": "57045a1d-572a-4c93-bb69-33d104c50e58",
   "metadata": {
    "tags": []
   },
   "outputs": [],
   "source": [
    "le_area_type = LabelEncoder()\n",
    "le_area_type.fit([\"Unfurnished\", \"Semi-Furnished\", \"Furnished\"])\n",
    "df[\"Furnishing Status\"] = le_area_type.transform(df[\"Furnishing Status\"])"
   ]
  },
  {
   "cell_type": "code",
   "execution_count": 65,
   "id": "76ff4af0-aeb9-4cd0-9f49-dea71a56be6b",
   "metadata": {
    "tags": []
   },
   "outputs": [],
   "source": [
    "le_area_type = LabelEncoder()\n",
    "le_area_type.fit([\"Carpet Area\", \"Built Area\", \"Super Area\"])\n",
    "df[\"Area Type\"] = le_area_type.transform(df[\"Area Type\"])"
   ]
  },
  {
   "cell_type": "code",
   "execution_count": 84,
   "id": "e531a26c-9943-4054-9e24-0ef8974bebe7",
   "metadata": {
    "tags": []
   },
   "outputs": [
    {
     "data": {
      "text/plain": [
       "BHK                          int64\n",
       "Rent                         int64\n",
       "Size                         int64\n",
       "Area Type                    int64\n",
       "Furnishing Status            int64\n",
       "Bathroom                     int64\n",
       "Area Type Encoded            int64\n",
       "Furnishing Status Encoded    int64\n",
       "dtype: object"
      ]
     },
     "execution_count": 84,
     "metadata": {},
     "output_type": "execute_result"
    }
   ],
   "source": [
    "df.dtypes"
   ]
  },
  {
   "cell_type": "code",
   "execution_count": 66,
   "id": "5fa0024a-7067-4743-b6dc-f46be01ed04c",
   "metadata": {
    "tags": []
   },
   "outputs": [
    {
     "data": {
      "text/html": [
       "<div>\n",
       "<style scoped>\n",
       "    .dataframe tbody tr th:only-of-type {\n",
       "        vertical-align: middle;\n",
       "    }\n",
       "\n",
       "    .dataframe tbody tr th {\n",
       "        vertical-align: top;\n",
       "    }\n",
       "\n",
       "    .dataframe thead th {\n",
       "        text-align: right;\n",
       "    }\n",
       "</style>\n",
       "<table border=\"1\" class=\"dataframe\">\n",
       "  <thead>\n",
       "    <tr style=\"text-align: right;\">\n",
       "      <th></th>\n",
       "      <th>BHK</th>\n",
       "      <th>Rent</th>\n",
       "      <th>Size</th>\n",
       "      <th>Area Type</th>\n",
       "      <th>City</th>\n",
       "      <th>Furnishing Status</th>\n",
       "      <th>Tenant Preferred</th>\n",
       "      <th>Bathroom</th>\n",
       "      <th>Area Type Encoded</th>\n",
       "      <th>Furnishing Status Encoded</th>\n",
       "    </tr>\n",
       "  </thead>\n",
       "  <tbody>\n",
       "    <tr>\n",
       "      <th>0</th>\n",
       "      <td>2</td>\n",
       "      <td>10000</td>\n",
       "      <td>1100</td>\n",
       "      <td>2</td>\n",
       "      <td>Kolkata</td>\n",
       "      <td>2</td>\n",
       "      <td>Bachelors/Family</td>\n",
       "      <td>2</td>\n",
       "      <td>2</td>\n",
       "      <td>2</td>\n",
       "    </tr>\n",
       "    <tr>\n",
       "      <th>1</th>\n",
       "      <td>2</td>\n",
       "      <td>20000</td>\n",
       "      <td>800</td>\n",
       "      <td>2</td>\n",
       "      <td>Kolkata</td>\n",
       "      <td>1</td>\n",
       "      <td>Bachelors/Family</td>\n",
       "      <td>1</td>\n",
       "      <td>2</td>\n",
       "      <td>1</td>\n",
       "    </tr>\n",
       "    <tr>\n",
       "      <th>2</th>\n",
       "      <td>2</td>\n",
       "      <td>17000</td>\n",
       "      <td>1000</td>\n",
       "      <td>2</td>\n",
       "      <td>Kolkata</td>\n",
       "      <td>1</td>\n",
       "      <td>Bachelors/Family</td>\n",
       "      <td>1</td>\n",
       "      <td>2</td>\n",
       "      <td>1</td>\n",
       "    </tr>\n",
       "    <tr>\n",
       "      <th>3</th>\n",
       "      <td>2</td>\n",
       "      <td>10000</td>\n",
       "      <td>800</td>\n",
       "      <td>2</td>\n",
       "      <td>Kolkata</td>\n",
       "      <td>2</td>\n",
       "      <td>Bachelors/Family</td>\n",
       "      <td>1</td>\n",
       "      <td>2</td>\n",
       "      <td>2</td>\n",
       "    </tr>\n",
       "    <tr>\n",
       "      <th>4</th>\n",
       "      <td>2</td>\n",
       "      <td>7500</td>\n",
       "      <td>850</td>\n",
       "      <td>1</td>\n",
       "      <td>Kolkata</td>\n",
       "      <td>2</td>\n",
       "      <td>Bachelors</td>\n",
       "      <td>1</td>\n",
       "      <td>1</td>\n",
       "      <td>2</td>\n",
       "    </tr>\n",
       "  </tbody>\n",
       "</table>\n",
       "</div>"
      ],
      "text/plain": [
       "   BHK   Rent  Size  Area Type     City  Furnishing Status  Tenant Preferred  \\\n",
       "0    2  10000  1100          2  Kolkata                  2  Bachelors/Family   \n",
       "1    2  20000   800          2  Kolkata                  1  Bachelors/Family   \n",
       "2    2  17000  1000          2  Kolkata                  1  Bachelors/Family   \n",
       "3    2  10000   800          2  Kolkata                  2  Bachelors/Family   \n",
       "4    2   7500   850          1  Kolkata                  2         Bachelors   \n",
       "\n",
       "   Bathroom  Area Type Encoded  Furnishing Status Encoded  \n",
       "0         2                  2                          2  \n",
       "1         1                  2                          1  \n",
       "2         1                  2                          1  \n",
       "3         1                  2                          2  \n",
       "4         1                  1                          2  "
      ]
     },
     "execution_count": 66,
     "metadata": {},
     "output_type": "execute_result"
    }
   ],
   "source": [
    "df.head()"
   ]
  },
  {
   "cell_type": "code",
   "execution_count": 67,
   "id": "17891b6b-8499-4a9c-a77f-13b4e2b7e628",
   "metadata": {
    "tags": []
   },
   "outputs": [],
   "source": [
    "remove_cols = [\"City\", \"Tenant Preferred\"]\n",
    "df.drop(remove_cols, axis=1, inplace=True)"
   ]
  },
  {
   "cell_type": "code",
   "execution_count": 68,
   "id": "91104cc4-6ea3-4b6a-b991-e16775cdc7db",
   "metadata": {
    "tags": []
   },
   "outputs": [],
   "source": [
    "df_merged = pd.merge(df, df_one_hot, left_index=True, right_index=True)"
   ]
  },
  {
   "cell_type": "code",
   "execution_count": 69,
   "id": "1782d574-c3d9-4699-bc28-a6f70d87d95f",
   "metadata": {
    "tags": []
   },
   "outputs": [
    {
     "data": {
      "text/html": [
       "<div>\n",
       "<style scoped>\n",
       "    .dataframe tbody tr th:only-of-type {\n",
       "        vertical-align: middle;\n",
       "    }\n",
       "\n",
       "    .dataframe tbody tr th {\n",
       "        vertical-align: top;\n",
       "    }\n",
       "\n",
       "    .dataframe thead th {\n",
       "        text-align: right;\n",
       "    }\n",
       "</style>\n",
       "<table border=\"1\" class=\"dataframe\">\n",
       "  <thead>\n",
       "    <tr style=\"text-align: right;\">\n",
       "      <th></th>\n",
       "      <th>BHK</th>\n",
       "      <th>Rent</th>\n",
       "      <th>Size</th>\n",
       "      <th>Area Type</th>\n",
       "      <th>Furnishing Status</th>\n",
       "      <th>Bathroom</th>\n",
       "      <th>Area Type Encoded</th>\n",
       "      <th>Furnishing Status Encoded</th>\n",
       "      <th>City_Bangalore</th>\n",
       "      <th>City_Chennai</th>\n",
       "      <th>City_Delhi</th>\n",
       "      <th>City_Hyderabad</th>\n",
       "      <th>City_Kolkata</th>\n",
       "      <th>City_Mumbai</th>\n",
       "      <th>Tenant Preferred_Bachelors</th>\n",
       "      <th>Tenant Preferred_Bachelors/Family</th>\n",
       "      <th>Tenant Preferred_Family</th>\n",
       "    </tr>\n",
       "  </thead>\n",
       "  <tbody>\n",
       "    <tr>\n",
       "      <th>0</th>\n",
       "      <td>2</td>\n",
       "      <td>10000</td>\n",
       "      <td>1100</td>\n",
       "      <td>2</td>\n",
       "      <td>2</td>\n",
       "      <td>2</td>\n",
       "      <td>2</td>\n",
       "      <td>2</td>\n",
       "      <td>0</td>\n",
       "      <td>0</td>\n",
       "      <td>0</td>\n",
       "      <td>0</td>\n",
       "      <td>1</td>\n",
       "      <td>0</td>\n",
       "      <td>0</td>\n",
       "      <td>1</td>\n",
       "      <td>0</td>\n",
       "    </tr>\n",
       "    <tr>\n",
       "      <th>1</th>\n",
       "      <td>2</td>\n",
       "      <td>20000</td>\n",
       "      <td>800</td>\n",
       "      <td>2</td>\n",
       "      <td>1</td>\n",
       "      <td>1</td>\n",
       "      <td>2</td>\n",
       "      <td>1</td>\n",
       "      <td>0</td>\n",
       "      <td>0</td>\n",
       "      <td>0</td>\n",
       "      <td>0</td>\n",
       "      <td>1</td>\n",
       "      <td>0</td>\n",
       "      <td>0</td>\n",
       "      <td>1</td>\n",
       "      <td>0</td>\n",
       "    </tr>\n",
       "    <tr>\n",
       "      <th>2</th>\n",
       "      <td>2</td>\n",
       "      <td>17000</td>\n",
       "      <td>1000</td>\n",
       "      <td>2</td>\n",
       "      <td>1</td>\n",
       "      <td>1</td>\n",
       "      <td>2</td>\n",
       "      <td>1</td>\n",
       "      <td>0</td>\n",
       "      <td>0</td>\n",
       "      <td>0</td>\n",
       "      <td>0</td>\n",
       "      <td>1</td>\n",
       "      <td>0</td>\n",
       "      <td>0</td>\n",
       "      <td>1</td>\n",
       "      <td>0</td>\n",
       "    </tr>\n",
       "    <tr>\n",
       "      <th>3</th>\n",
       "      <td>2</td>\n",
       "      <td>10000</td>\n",
       "      <td>800</td>\n",
       "      <td>2</td>\n",
       "      <td>2</td>\n",
       "      <td>1</td>\n",
       "      <td>2</td>\n",
       "      <td>2</td>\n",
       "      <td>0</td>\n",
       "      <td>0</td>\n",
       "      <td>0</td>\n",
       "      <td>0</td>\n",
       "      <td>1</td>\n",
       "      <td>0</td>\n",
       "      <td>0</td>\n",
       "      <td>1</td>\n",
       "      <td>0</td>\n",
       "    </tr>\n",
       "    <tr>\n",
       "      <th>4</th>\n",
       "      <td>2</td>\n",
       "      <td>7500</td>\n",
       "      <td>850</td>\n",
       "      <td>1</td>\n",
       "      <td>2</td>\n",
       "      <td>1</td>\n",
       "      <td>1</td>\n",
       "      <td>2</td>\n",
       "      <td>0</td>\n",
       "      <td>0</td>\n",
       "      <td>0</td>\n",
       "      <td>0</td>\n",
       "      <td>1</td>\n",
       "      <td>0</td>\n",
       "      <td>1</td>\n",
       "      <td>0</td>\n",
       "      <td>0</td>\n",
       "    </tr>\n",
       "  </tbody>\n",
       "</table>\n",
       "</div>"
      ],
      "text/plain": [
       "   BHK   Rent  Size  Area Type  Furnishing Status  Bathroom  \\\n",
       "0    2  10000  1100          2                  2         2   \n",
       "1    2  20000   800          2                  1         1   \n",
       "2    2  17000  1000          2                  1         1   \n",
       "3    2  10000   800          2                  2         1   \n",
       "4    2   7500   850          1                  2         1   \n",
       "\n",
       "   Area Type Encoded  Furnishing Status Encoded  City_Bangalore  City_Chennai  \\\n",
       "0                  2                          2               0             0   \n",
       "1                  2                          1               0             0   \n",
       "2                  2                          1               0             0   \n",
       "3                  2                          2               0             0   \n",
       "4                  1                          2               0             0   \n",
       "\n",
       "   City_Delhi  City_Hyderabad  City_Kolkata  City_Mumbai  \\\n",
       "0           0               0             1            0   \n",
       "1           0               0             1            0   \n",
       "2           0               0             1            0   \n",
       "3           0               0             1            0   \n",
       "4           0               0             1            0   \n",
       "\n",
       "   Tenant Preferred_Bachelors  Tenant Preferred_Bachelors/Family  \\\n",
       "0                           0                                  1   \n",
       "1                           0                                  1   \n",
       "2                           0                                  1   \n",
       "3                           0                                  1   \n",
       "4                           1                                  0   \n",
       "\n",
       "   Tenant Preferred_Family  \n",
       "0                        0  \n",
       "1                        0  \n",
       "2                        0  \n",
       "3                        0  \n",
       "4                        0  "
      ]
     },
     "execution_count": 69,
     "metadata": {},
     "output_type": "execute_result"
    }
   ],
   "source": [
    "df_merged.head()"
   ]
  },
  {
   "cell_type": "code",
   "execution_count": 70,
   "id": "0fc1c4be-4b92-4b9a-8152-109c396f854e",
   "metadata": {
    "tags": []
   },
   "outputs": [],
   "source": [
    "y = df[\"Rent\"]\n",
    "X = df.drop([\"Rent\"], axis=1)"
   ]
  },
  {
   "cell_type": "code",
   "execution_count": 71,
   "id": "9bc3b80f-2f4a-4f24-bc69-15ccc0002853",
   "metadata": {
    "tags": []
   },
   "outputs": [],
   "source": [
    "from sklearn.model_selection import train_test_split"
   ]
  },
  {
   "cell_type": "code",
   "execution_count": 86,
   "id": "2c38dbec-6c58-41be-9a51-c35b8ec8574a",
   "metadata": {
    "tags": []
   },
   "outputs": [],
   "source": [
    "X_train, X_test, y_train, y_test = train_test_split(\n",
    "    X, y, test_size=0.85, random_state=42\n",
    ")"
   ]
  },
  {
   "cell_type": "markdown",
   "id": "b6f9141c-e523-45a2-b279-1e96e90652ab",
   "metadata": {},
   "source": [
    "### Training model"
   ]
  },
  {
   "cell_type": "code",
   "execution_count": 87,
   "id": "62c7efef-f932-4f8c-9a1a-4bfb2e0b6937",
   "metadata": {
    "tags": []
   },
   "outputs": [
    {
     "data": {
      "text/html": [
       "<style>#sk-container-id-2 {color: black;background-color: white;}#sk-container-id-2 pre{padding: 0;}#sk-container-id-2 div.sk-toggleable {background-color: white;}#sk-container-id-2 label.sk-toggleable__label {cursor: pointer;display: block;width: 100%;margin-bottom: 0;padding: 0.3em;box-sizing: border-box;text-align: center;}#sk-container-id-2 label.sk-toggleable__label-arrow:before {content: \"▸\";float: left;margin-right: 0.25em;color: #696969;}#sk-container-id-2 label.sk-toggleable__label-arrow:hover:before {color: black;}#sk-container-id-2 div.sk-estimator:hover label.sk-toggleable__label-arrow:before {color: black;}#sk-container-id-2 div.sk-toggleable__content {max-height: 0;max-width: 0;overflow: hidden;text-align: left;background-color: #f0f8ff;}#sk-container-id-2 div.sk-toggleable__content pre {margin: 0.2em;color: black;border-radius: 0.25em;background-color: #f0f8ff;}#sk-container-id-2 input.sk-toggleable__control:checked~div.sk-toggleable__content {max-height: 200px;max-width: 100%;overflow: auto;}#sk-container-id-2 input.sk-toggleable__control:checked~label.sk-toggleable__label-arrow:before {content: \"▾\";}#sk-container-id-2 div.sk-estimator input.sk-toggleable__control:checked~label.sk-toggleable__label {background-color: #d4ebff;}#sk-container-id-2 div.sk-label input.sk-toggleable__control:checked~label.sk-toggleable__label {background-color: #d4ebff;}#sk-container-id-2 input.sk-hidden--visually {border: 0;clip: rect(1px 1px 1px 1px);clip: rect(1px, 1px, 1px, 1px);height: 1px;margin: -1px;overflow: hidden;padding: 0;position: absolute;width: 1px;}#sk-container-id-2 div.sk-estimator {font-family: monospace;background-color: #f0f8ff;border: 1px dotted black;border-radius: 0.25em;box-sizing: border-box;margin-bottom: 0.5em;}#sk-container-id-2 div.sk-estimator:hover {background-color: #d4ebff;}#sk-container-id-2 div.sk-parallel-item::after {content: \"\";width: 100%;border-bottom: 1px solid gray;flex-grow: 1;}#sk-container-id-2 div.sk-label:hover label.sk-toggleable__label {background-color: #d4ebff;}#sk-container-id-2 div.sk-serial::before {content: \"\";position: absolute;border-left: 1px solid gray;box-sizing: border-box;top: 0;bottom: 0;left: 50%;z-index: 0;}#sk-container-id-2 div.sk-serial {display: flex;flex-direction: column;align-items: center;background-color: white;padding-right: 0.2em;padding-left: 0.2em;position: relative;}#sk-container-id-2 div.sk-item {position: relative;z-index: 1;}#sk-container-id-2 div.sk-parallel {display: flex;align-items: stretch;justify-content: center;background-color: white;position: relative;}#sk-container-id-2 div.sk-item::before, #sk-container-id-2 div.sk-parallel-item::before {content: \"\";position: absolute;border-left: 1px solid gray;box-sizing: border-box;top: 0;bottom: 0;left: 50%;z-index: -1;}#sk-container-id-2 div.sk-parallel-item {display: flex;flex-direction: column;z-index: 1;position: relative;background-color: white;}#sk-container-id-2 div.sk-parallel-item:first-child::after {align-self: flex-end;width: 50%;}#sk-container-id-2 div.sk-parallel-item:last-child::after {align-self: flex-start;width: 50%;}#sk-container-id-2 div.sk-parallel-item:only-child::after {width: 0;}#sk-container-id-2 div.sk-dashed-wrapped {border: 1px dashed gray;margin: 0 0.4em 0.5em 0.4em;box-sizing: border-box;padding-bottom: 0.4em;background-color: white;}#sk-container-id-2 div.sk-label label {font-family: monospace;font-weight: bold;display: inline-block;line-height: 1.2em;}#sk-container-id-2 div.sk-label-container {text-align: center;}#sk-container-id-2 div.sk-container {/* jupyter's `normalize.less` sets `[hidden] { display: none; }` but bootstrap.min.css set `[hidden] { display: none !important; }` so we also need the `!important` here to be able to override the default hidden behavior on the sphinx rendered scikit-learn.org. See: https://github.com/scikit-learn/scikit-learn/issues/21755 */display: inline-block !important;position: relative;}#sk-container-id-2 div.sk-text-repr-fallback {display: none;}</style><div id=\"sk-container-id-2\" class=\"sk-top-container\"><div class=\"sk-text-repr-fallback\"><pre>LinearRegression()</pre><b>In a Jupyter environment, please rerun this cell to show the HTML representation or trust the notebook. <br />On GitHub, the HTML representation is unable to render, please try loading this page with nbviewer.org.</b></div><div class=\"sk-container\" hidden><div class=\"sk-item\"><div class=\"sk-estimator sk-toggleable\"><input class=\"sk-toggleable__control sk-hidden--visually\" id=\"sk-estimator-id-2\" type=\"checkbox\" checked><label for=\"sk-estimator-id-2\" class=\"sk-toggleable__label sk-toggleable__label-arrow\">LinearRegression</label><div class=\"sk-toggleable__content\"><pre>LinearRegression()</pre></div></div></div></div></div>"
      ],
      "text/plain": [
       "LinearRegression()"
      ]
     },
     "execution_count": 87,
     "metadata": {},
     "output_type": "execute_result"
    }
   ],
   "source": [
    "regressor = LinearRegression()\n",
    "regressor.fit(X_train, y_train)"
   ]
  },
  {
   "cell_type": "code",
   "execution_count": 88,
   "id": "2ccb067e-763b-404e-b6da-2e2bfff85d9b",
   "metadata": {
    "tags": []
   },
   "outputs": [],
   "source": [
    "y_pred = regressor.predict(X_test)"
   ]
  },
  {
   "cell_type": "code",
   "execution_count": 89,
   "id": "a6db06c0-83e6-4bc9-94d2-b2e62ea05ea2",
   "metadata": {
    "tags": []
   },
   "outputs": [],
   "source": [
    "import numpy as np\n",
    "from sklearn.metrics import mean_squared_error"
   ]
  },
  {
   "cell_type": "code",
   "execution_count": 90,
   "id": "7e365f69-e37f-44c4-a2e7-d04d8f6d4a9b",
   "metadata": {
    "tags": []
   },
   "outputs": [],
   "source": [
    "# assuming y_test and y_pred are your test output and predicted output values\n",
    "rmse = np.sqrt(mean_squared_error(y_test, y_pred))"
   ]
  },
  {
   "cell_type": "code",
   "execution_count": 91,
   "id": "43e677d6-c37b-48c7-a1ae-7e89e3dc8973",
   "metadata": {
    "tags": []
   },
   "outputs": [
    {
     "data": {
      "text/plain": [
       "71243.48132693172"
      ]
     },
     "execution_count": 91,
     "metadata": {},
     "output_type": "execute_result"
    }
   ],
   "source": [
    "rmse"
   ]
  },
  {
   "cell_type": "code",
   "execution_count": 92,
   "id": "6f39edc3-3a2f-4b37-bb7e-62ee0bc90ba2",
   "metadata": {
    "tags": []
   },
   "outputs": [
    {
     "data": {
      "text/plain": [
       "array([17925.61551189, 30130.34694683, 37198.25492689, ...,\n",
       "       21049.12851805, 34710.23049915, 21148.42360843])"
      ]
     },
     "execution_count": 92,
     "metadata": {},
     "output_type": "execute_result"
    }
   ],
   "source": [
    "y_pred"
   ]
  },
  {
   "cell_type": "code",
   "execution_count": 93,
   "id": "41e06ba9-35e4-4f73-b14a-a7eda95704c6",
   "metadata": {
    "tags": []
   },
   "outputs": [
    {
     "data": {
      "text/html": [
       "<div>\n",
       "<style scoped>\n",
       "    .dataframe tbody tr th:only-of-type {\n",
       "        vertical-align: middle;\n",
       "    }\n",
       "\n",
       "    .dataframe tbody tr th {\n",
       "        vertical-align: top;\n",
       "    }\n",
       "\n",
       "    .dataframe thead th {\n",
       "        text-align: right;\n",
       "    }\n",
       "</style>\n",
       "<table border=\"1\" class=\"dataframe\">\n",
       "  <thead>\n",
       "    <tr style=\"text-align: right;\">\n",
       "      <th></th>\n",
       "      <th>true_rent</th>\n",
       "      <th>predicted_rent</th>\n",
       "    </tr>\n",
       "  </thead>\n",
       "  <tbody>\n",
       "    <tr>\n",
       "      <th>1566</th>\n",
       "      <td>16000</td>\n",
       "      <td>17925.615512</td>\n",
       "    </tr>\n",
       "    <tr>\n",
       "      <th>3159</th>\n",
       "      <td>12000</td>\n",
       "      <td>30130.346947</td>\n",
       "    </tr>\n",
       "    <tr>\n",
       "      <th>538</th>\n",
       "      <td>28000</td>\n",
       "      <td>37198.254927</td>\n",
       "    </tr>\n",
       "    <tr>\n",
       "      <th>2630</th>\n",
       "      <td>8000</td>\n",
       "      <td>68033.438076</td>\n",
       "    </tr>\n",
       "    <tr>\n",
       "      <th>4418</th>\n",
       "      <td>46000</td>\n",
       "      <td>118493.589923</td>\n",
       "    </tr>\n",
       "    <tr>\n",
       "      <th>...</th>\n",
       "      <td>...</td>\n",
       "      <td>...</td>\n",
       "    </tr>\n",
       "    <tr>\n",
       "      <th>2324</th>\n",
       "      <td>5000</td>\n",
       "      <td>39323.169861</td>\n",
       "    </tr>\n",
       "    <tr>\n",
       "      <th>2709</th>\n",
       "      <td>4000</td>\n",
       "      <td>-21951.068030</td>\n",
       "    </tr>\n",
       "    <tr>\n",
       "      <th>4179</th>\n",
       "      <td>10000</td>\n",
       "      <td>21049.128518</td>\n",
       "    </tr>\n",
       "    <tr>\n",
       "      <th>1312</th>\n",
       "      <td>85000</td>\n",
       "      <td>34710.230499</td>\n",
       "    </tr>\n",
       "    <tr>\n",
       "      <th>3448</th>\n",
       "      <td>15000</td>\n",
       "      <td>21148.423608</td>\n",
       "    </tr>\n",
       "  </tbody>\n",
       "</table>\n",
       "<p>4035 rows × 2 columns</p>\n",
       "</div>"
      ],
      "text/plain": [
       "      true_rent  predicted_rent\n",
       "1566      16000    17925.615512\n",
       "3159      12000    30130.346947\n",
       "538       28000    37198.254927\n",
       "2630       8000    68033.438076\n",
       "4418      46000   118493.589923\n",
       "...         ...             ...\n",
       "2324       5000    39323.169861\n",
       "2709       4000   -21951.068030\n",
       "4179      10000    21049.128518\n",
       "1312      85000    34710.230499\n",
       "3448      15000    21148.423608\n",
       "\n",
       "[4035 rows x 2 columns]"
      ]
     },
     "execution_count": 93,
     "metadata": {},
     "output_type": "execute_result"
    }
   ],
   "source": [
    "pd.DataFrame({\"true_rent\": y_test, \"predicted_rent\": y_pred})"
   ]
  },
  {
   "cell_type": "code",
   "execution_count": null,
   "id": "9d093ad1-769f-4d59-ac9f-4910bf47b963",
   "metadata": {},
   "outputs": [],
   "source": []
  },
  {
   "cell_type": "code",
   "execution_count": null,
   "id": "421b3367-a7cc-44e1-b94a-cf701b495dc4",
   "metadata": {},
   "outputs": [],
   "source": [
    "#  # Read in the data df =\n",
    "# pd.read_csv('data.csv')  # Split the data into training and\n",
    "# testing sets X_train = df[['feature1', 'feature2',\n",
    "# 'feature3']] y_train = df['target'] X_test = df[['feature1',\n",
    "# 'feature2', 'feature3']] y_test = df['target']  # Create the\n",
    "# linear regression model model = LinearRegression()  # Train\n",
    "# the model on the training data model.fit(X_train, y_train)\n",
    "# # Make predictions on the testing data y_pred =\n",
    "# model.predict(X_test)  # Evaluate the model's performance\n",
    "# score = model.score(X_test, y_test) print('Model score:',\n",
    "# score) ```  This code assumes that you have a CSV file\n",
    "# called 'data.csv' with columns for the features and the\n",
    "# target variable. You'll need to replace 'feature1',\n",
    "# 'feature2', 'feature3', and 'target' with the actual column\n",
    "# names in your data. Let me know if you have any questions or\n",
    "# if you would like me to explain anything in more detail!"
   ]
  }
 ],
 "metadata": {
  "kernelspec": {
   "display_name": "Python 3 (ipykernel)",
   "language": "python",
   "name": "python3"
  },
  "language_info": {
   "codemirror_mode": {
    "name": "ipython",
    "version": 3
   },
   "file_extension": ".py",
   "mimetype": "text/x-python",
   "name": "python",
   "nbconvert_exporter": "python",
   "pygments_lexer": "ipython3",
   "version": "3.10.6"
  }
 },
 "nbformat": 4,
 "nbformat_minor": 5
}
