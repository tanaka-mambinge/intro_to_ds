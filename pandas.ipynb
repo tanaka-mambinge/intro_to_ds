{
 "cells": [
  {
   "cell_type": "markdown",
   "id": "51c72fc4-4f13-4272-80c0-27c0b7131ecd",
   "metadata": {},
   "source": [
    "# Intro to pandas"
   ]
  },
  {
   "cell_type": "markdown",
   "id": "e2c516f5-5272-4466-a938-60bd985f7553",
   "metadata": {},
   "source": [
    "### Install libraries"
   ]
  },
  {
   "cell_type": "code",
   "execution_count": null,
   "id": "ec1e0de8-9e25-4f84-a98f-97a7efb56e4a",
   "metadata": {},
   "outputs": [],
   "source": [
    "# run cell to install pandas if not already installed\n",
    "!pip install pandas"
   ]
  },
  {
   "cell_type": "markdown",
   "id": "8cea04a3-babf-488c-8e2f-9fdfd6b5e5c4",
   "metadata": {},
   "source": [
    "### Import libraries"
   ]
  },
  {
   "cell_type": "code",
   "execution_count": 65,
   "id": "7bb77850-6ff2-4c9c-bb56-910857bde9be",
   "metadata": {
    "tags": []
   },
   "outputs": [],
   "source": [
    "# We use 'import pandas as pd' instead of 'import pandas' to\n",
    "# give Pandas a shorter alias or nickname. This is a common\n",
    "# convention in Python programming, especially for libraries\n",
    "# that have long names or are frequently used. By using 'pd'\n",
    "# as an alias for Pandas, we can save time and typing when we\n",
    "# need to use Pandas functions or objects in our code. For\n",
    "# example, instead of typing 'pandas.DataFrame()', we can\n",
    "# simply type 'pd.DataFrame()'. This makes our code more\n",
    "# concise and easier to read.\n",
    "\n",
    "import pandas as pd"
   ]
  },
  {
   "cell_type": "markdown",
   "id": "29a7a890-8645-4ac3-9732-53a5853ebcaa",
   "metadata": {},
   "source": [
    "### Reading from files\n",
    "\n",
    "To read data from a file, you can use the `read_csv()` function in Pandas. This function\n",
    "reads a CSV file and returns a data frame, which is a two-\n",
    "dimensional table of data."
   ]
  },
  {
   "cell_type": "code",
   "execution_count": 81,
   "id": "e7117a85-ca73-4216-8cff-e9b91badb797",
   "metadata": {
    "tags": []
   },
   "outputs": [],
   "source": [
    "df = pd.read_csv(\"data/Adidas US Sales Datasets.csv\")"
   ]
  },
  {
   "cell_type": "code",
   "execution_count": 82,
   "id": "3739c975-6039-4327-8465-1d2458171f83",
   "metadata": {
    "tags": []
   },
   "outputs": [
    {
     "data": {
      "text/html": [
       "<div>\n",
       "<style scoped>\n",
       "    .dataframe tbody tr th:only-of-type {\n",
       "        vertical-align: middle;\n",
       "    }\n",
       "\n",
       "    .dataframe tbody tr th {\n",
       "        vertical-align: top;\n",
       "    }\n",
       "\n",
       "    .dataframe thead th {\n",
       "        text-align: right;\n",
       "    }\n",
       "</style>\n",
       "<table border=\"1\" class=\"dataframe\">\n",
       "  <thead>\n",
       "    <tr style=\"text-align: right;\">\n",
       "      <th></th>\n",
       "      <th>Retailer</th>\n",
       "      <th>Retailer ID</th>\n",
       "      <th>Invoice Date</th>\n",
       "      <th>Region</th>\n",
       "      <th>State</th>\n",
       "      <th>City</th>\n",
       "      <th>Product</th>\n",
       "      <th>Price per Unit</th>\n",
       "      <th>Units Sold</th>\n",
       "      <th>Total Sales</th>\n",
       "      <th>Operating Profit</th>\n",
       "      <th>Operating Margin</th>\n",
       "      <th>Sales Method</th>\n",
       "    </tr>\n",
       "  </thead>\n",
       "  <tbody>\n",
       "    <tr>\n",
       "      <th>0</th>\n",
       "      <td>Foot Locker</td>\n",
       "      <td>1185732</td>\n",
       "      <td>1/1/2020</td>\n",
       "      <td>Northeast</td>\n",
       "      <td>New York</td>\n",
       "      <td>New York</td>\n",
       "      <td>Men's Street Footwear</td>\n",
       "      <td>$50.00</td>\n",
       "      <td>1,200</td>\n",
       "      <td>$600,000</td>\n",
       "      <td>$300,000</td>\n",
       "      <td>50%</td>\n",
       "      <td>In-store</td>\n",
       "    </tr>\n",
       "    <tr>\n",
       "      <th>1</th>\n",
       "      <td>Foot Locker</td>\n",
       "      <td>1185732</td>\n",
       "      <td>1/2/2020</td>\n",
       "      <td>Northeast</td>\n",
       "      <td>New York</td>\n",
       "      <td>New York</td>\n",
       "      <td>Men's Athletic Footwear</td>\n",
       "      <td>$50.00</td>\n",
       "      <td>1,000</td>\n",
       "      <td>$500,000</td>\n",
       "      <td>$150,000</td>\n",
       "      <td>30%</td>\n",
       "      <td>In-store</td>\n",
       "    </tr>\n",
       "    <tr>\n",
       "      <th>2</th>\n",
       "      <td>Foot Locker</td>\n",
       "      <td>1185732</td>\n",
       "      <td>1/3/2020</td>\n",
       "      <td>Northeast</td>\n",
       "      <td>New York</td>\n",
       "      <td>New York</td>\n",
       "      <td>Women's Street Footwear</td>\n",
       "      <td>$40.00</td>\n",
       "      <td>1,000</td>\n",
       "      <td>$400,000</td>\n",
       "      <td>$140,000</td>\n",
       "      <td>35%</td>\n",
       "      <td>In-store</td>\n",
       "    </tr>\n",
       "    <tr>\n",
       "      <th>3</th>\n",
       "      <td>Foot Locker</td>\n",
       "      <td>1185732</td>\n",
       "      <td>1/4/2020</td>\n",
       "      <td>Northeast</td>\n",
       "      <td>New York</td>\n",
       "      <td>New York</td>\n",
       "      <td>Women's Athletic Footwear</td>\n",
       "      <td>$45.00</td>\n",
       "      <td>850</td>\n",
       "      <td>$382,500</td>\n",
       "      <td>$133,875</td>\n",
       "      <td>35%</td>\n",
       "      <td>In-store</td>\n",
       "    </tr>\n",
       "    <tr>\n",
       "      <th>4</th>\n",
       "      <td>Foot Locker</td>\n",
       "      <td>1185732</td>\n",
       "      <td>1/5/2020</td>\n",
       "      <td>Northeast</td>\n",
       "      <td>New York</td>\n",
       "      <td>New York</td>\n",
       "      <td>Men's Apparel</td>\n",
       "      <td>$60.00</td>\n",
       "      <td>900</td>\n",
       "      <td>$540,000</td>\n",
       "      <td>$162,000</td>\n",
       "      <td>30%</td>\n",
       "      <td>In-store</td>\n",
       "    </tr>\n",
       "  </tbody>\n",
       "</table>\n",
       "</div>"
      ],
      "text/plain": [
       "      Retailer  Retailer ID Invoice Date     Region     State      City  \\\n",
       "0  Foot Locker      1185732     1/1/2020  Northeast  New York  New York   \n",
       "1  Foot Locker      1185732     1/2/2020  Northeast  New York  New York   \n",
       "2  Foot Locker      1185732     1/3/2020  Northeast  New York  New York   \n",
       "3  Foot Locker      1185732     1/4/2020  Northeast  New York  New York   \n",
       "4  Foot Locker      1185732     1/5/2020  Northeast  New York  New York   \n",
       "\n",
       "                     Product Price per Unit Units Sold Total Sales  \\\n",
       "0      Men's Street Footwear        $50.00       1,200   $600,000    \n",
       "1    Men's Athletic Footwear        $50.00       1,000   $500,000    \n",
       "2    Women's Street Footwear        $40.00       1,000   $400,000    \n",
       "3  Women's Athletic Footwear        $45.00         850   $382,500    \n",
       "4              Men's Apparel        $60.00         900   $540,000    \n",
       "\n",
       "  Operating Profit Operating Margin Sales Method  \n",
       "0        $300,000               50%     In-store  \n",
       "1        $150,000               30%     In-store  \n",
       "2        $140,000               35%     In-store  \n",
       "3        $133,875               35%     In-store  \n",
       "4        $162,000               30%     In-store  "
      ]
     },
     "execution_count": 82,
     "metadata": {},
     "output_type": "execute_result"
    }
   ],
   "source": [
    "df.head()"
   ]
  },
  {
   "cell_type": "markdown",
   "id": "b0c18c2f-39cd-43d1-934c-7b1de5e07f7c",
   "metadata": {},
   "source": [
    "### Selecting data\n",
    "\n",
    "To select specific columns or rows from a data frame, you can use indexing and slicing.\n",
    "For example, to select a specific column, you can use the syntax `df['column_name']`, where df is the name of the dataframe and `'column_name'` is the name of the column."
   ]
  },
  {
   "cell_type": "code",
   "execution_count": 83,
   "id": "c28b0344-6dec-4ef3-a265-ef8e39836cc4",
   "metadata": {
    "tags": []
   },
   "outputs": [
    {
     "data": {
      "text/plain": [
       "0        Men's Street Footwear\n",
       "1      Men's Athletic Footwear\n",
       "2      Women's Street Footwear\n",
       "3    Women's Athletic Footwear\n",
       "4                Men's Apparel\n",
       "Name: Product, dtype: object"
      ]
     },
     "execution_count": 83,
     "metadata": {},
     "output_type": "execute_result"
    }
   ],
   "source": [
    "# selecting a column from the dataframe\n",
    "df[\"Product\"].head()"
   ]
  },
  {
   "cell_type": "code",
   "execution_count": 84,
   "id": "9d0cea9e-395b-45bf-9b9a-23a8a41017ec",
   "metadata": {
    "tags": []
   },
   "outputs": [
    {
     "data": {
      "text/html": [
       "<div>\n",
       "<style scoped>\n",
       "    .dataframe tbody tr th:only-of-type {\n",
       "        vertical-align: middle;\n",
       "    }\n",
       "\n",
       "    .dataframe tbody tr th {\n",
       "        vertical-align: top;\n",
       "    }\n",
       "\n",
       "    .dataframe thead th {\n",
       "        text-align: right;\n",
       "    }\n",
       "</style>\n",
       "<table border=\"1\" class=\"dataframe\">\n",
       "  <thead>\n",
       "    <tr style=\"text-align: right;\">\n",
       "      <th></th>\n",
       "      <th>Region</th>\n",
       "      <th>State</th>\n",
       "      <th>City</th>\n",
       "    </tr>\n",
       "  </thead>\n",
       "  <tbody>\n",
       "    <tr>\n",
       "      <th>0</th>\n",
       "      <td>Northeast</td>\n",
       "      <td>New York</td>\n",
       "      <td>New York</td>\n",
       "    </tr>\n",
       "    <tr>\n",
       "      <th>1</th>\n",
       "      <td>Northeast</td>\n",
       "      <td>New York</td>\n",
       "      <td>New York</td>\n",
       "    </tr>\n",
       "    <tr>\n",
       "      <th>2</th>\n",
       "      <td>Northeast</td>\n",
       "      <td>New York</td>\n",
       "      <td>New York</td>\n",
       "    </tr>\n",
       "    <tr>\n",
       "      <th>3</th>\n",
       "      <td>Northeast</td>\n",
       "      <td>New York</td>\n",
       "      <td>New York</td>\n",
       "    </tr>\n",
       "    <tr>\n",
       "      <th>4</th>\n",
       "      <td>Northeast</td>\n",
       "      <td>New York</td>\n",
       "      <td>New York</td>\n",
       "    </tr>\n",
       "  </tbody>\n",
       "</table>\n",
       "</div>"
      ],
      "text/plain": [
       "      Region     State      City\n",
       "0  Northeast  New York  New York\n",
       "1  Northeast  New York  New York\n",
       "2  Northeast  New York  New York\n",
       "3  Northeast  New York  New York\n",
       "4  Northeast  New York  New York"
      ]
     },
     "execution_count": 84,
     "metadata": {},
     "output_type": "execute_result"
    }
   ],
   "source": [
    "# selecting columns from the dataframe\n",
    "# instead of using a string, we use a list of strings\n",
    "df[[\"Region\", \"State\", \"City\"]].head()"
   ]
  },
  {
   "cell_type": "markdown",
   "id": "c11349e7-eb29-46ba-80fc-e1121a231d2e",
   "metadata": {
    "tags": []
   },
   "source": [
    "### Data manipulation\n",
    "\n",
    "It is the process of cleaning, transforming, and reshaping data to prepare it for\n",
    "analysis. Pandas provides a wide range of functions and\n",
    "techniques for data manipulation, including:  \n",
    "\n",
    "- Cleaning data: cleaning data refers to the process of identifying and correcting or removing errors, inconsistencies, and inaccuracies in a data set. This can include handling missing values, correcting data types, removing duplicates, and dealing with outliers. Pandas provides a wide\n",
    "- Transforming data: Pandas provides functions for applying mathematical operations, string operations, and custom functions to data."
   ]
  },
  {
   "cell_type": "markdown",
   "id": "128acb0e-0a67-41b7-b5f2-5137ec3c9aa9",
   "metadata": {
    "tags": []
   },
   "source": [
    "### Data cleaning"
   ]
  },
  {
   "cell_type": "code",
   "execution_count": 85,
   "id": "c4ff7b1a-dc31-443e-9f39-948296ea7343",
   "metadata": {
    "tags": []
   },
   "outputs": [
    {
     "data": {
      "text/plain": [
       "Retailer            0\n",
       "Retailer ID         0\n",
       "Invoice Date        0\n",
       "Region              0\n",
       "State               0\n",
       "City                0\n",
       "Product             0\n",
       "Price per Unit      0\n",
       "Units Sold          0\n",
       "Total Sales         0\n",
       "Operating Profit    0\n",
       "Operating Margin    0\n",
       "Sales Method        0\n",
       "dtype: int64"
      ]
     },
     "execution_count": 85,
     "metadata": {},
     "output_type": "execute_result"
    }
   ],
   "source": [
    "# checking if there are missing values in our dataframe\n",
    "# isull() checks if the dataframe has any null values\n",
    "# if a cell is null, the isnull() method will retrun 1 otherwise it'll return 0\n",
    "df.isnull().sum()"
   ]
  },
  {
   "cell_type": "code",
   "execution_count": 86,
   "id": "4192d7ff-09f9-4628-80f1-dc1077b700df",
   "metadata": {
    "tags": []
   },
   "outputs": [],
   "source": [
    "# from the above, we can see that there are no missing values"
   ]
  },
  {
   "cell_type": "code",
   "execution_count": 87,
   "id": "019af8fa-5cbc-4492-b1cb-201c9221292a",
   "metadata": {
    "tags": []
   },
   "outputs": [],
   "source": [
    "# if our dataframe has records with null values we can remove them by using dropna()\n",
    "df = df.dropna()"
   ]
  },
  {
   "cell_type": "code",
   "execution_count": 88,
   "id": "116d466a-dfd9-4789-b168-3a152639ae1e",
   "metadata": {
    "tags": []
   },
   "outputs": [],
   "source": [
    "# instead of removing the columns columns with null values,\n",
    "# we can fill the null cells with a certain value. that value\n",
    "# could be a '0', the mean of the column, or a prediction\n",
    "# from a trained model\n",
    "\n",
    "# example of filling empty cells in the units sold column with a 0\n",
    "df[\"Units Sold\"] = df[\"Units Sold\"].fillna(0)"
   ]
  },
  {
   "cell_type": "markdown",
   "id": "3b5a7435-abec-4896-9613-e2aa4d3f593b",
   "metadata": {},
   "source": [
    " Other data cleaning methods are replace() and drop_duplicates()"
   ]
  },
  {
   "cell_type": "markdown",
   "id": "4913cecf-2ab2-44e2-98f6-e23568ec8903",
   "metadata": {},
   "source": [
    "### Data transformation"
   ]
  },
  {
   "cell_type": "markdown",
   "id": "b51f0584-993e-4bef-97f5-2606ff5422f6",
   "metadata": {},
   "source": [
    "- Mathematical operations: You can add a constant value to a column using the syntax `df['column_name'] + constant_value`.\n",
    "- Applying string operations: You can concatenate two columns using the syntax `df['new_column'] = df['column1'] + df['column2']`.\n",
    "- Applying custom functions: Pandas provides functions for applying custom functions to data in a data frame using the `apply(custom_function)` method."
   ]
  },
  {
   "cell_type": "code",
   "execution_count": 89,
   "id": "cf6bb60d-d339-4d10-8e8c-d31c9aa83c77",
   "metadata": {
    "tags": []
   },
   "outputs": [],
   "source": [
    "# converting 'Units Sold' from str to int by using the apply function\n",
    "def convert_str_to_int(text):\n",
    "    text = text.replace(\",\", \"\") # replace the comma in the string to avoid getting errors\n",
    "    converted_text = int(text) # coverting the string to an integer\n",
    "    return converted_text\n",
    "\n",
    "df[\"Units Sold\"] = df[\"Units Sold\"].apply(convert_str_to_int)"
   ]
  },
  {
   "cell_type": "code",
   "execution_count": 90,
   "id": "a91793d2-dc23-4de3-ace5-0af83763e99a",
   "metadata": {
    "tags": []
   },
   "outputs": [
    {
     "data": {
      "text/plain": [
       "0       2200\n",
       "1       2000\n",
       "2       2000\n",
       "3       1850\n",
       "4       1900\n",
       "        ... \n",
       "9643    1064\n",
       "9644    1105\n",
       "9645    1184\n",
       "9646    1070\n",
       "9647    1083\n",
       "Name: Units Sold, Length: 9648, dtype: int64"
      ]
     },
     "execution_count": 90,
     "metadata": {},
     "output_type": "execute_result"
    }
   ],
   "source": [
    "# adding a constant to all values in a column\n",
    "# you can do the same for subtraction and other mathematical operations\n",
    "df[\"Units Sold\"] + 1000"
   ]
  },
  {
   "cell_type": "markdown",
   "id": "a29fdf16-6ff8-444d-853f-225262b19c83",
   "metadata": {
    "tags": []
   },
   "source": [
    "### Filtering data\n",
    "\n",
    "To filter data based on specific conditions, you can use\n",
    "boolean indexing. For example, to select rows where a\n",
    "certain column has a value greater than a certain threshold,\n",
    "you can use the syntax `df[df['column_name'] > threshold]`.\n",
    "This will return a new data frame that contains only the\n",
    "rows that meet the specified condition."
   ]
  },
  {
   "cell_type": "code",
   "execution_count": 63,
   "id": "0ce18b88-89ae-43ff-9d22-09eaf4462ec8",
   "metadata": {
    "tags": []
   },
   "outputs": [
    {
     "data": {
      "text/html": [
       "<div>\n",
       "<style scoped>\n",
       "    .dataframe tbody tr th:only-of-type {\n",
       "        vertical-align: middle;\n",
       "    }\n",
       "\n",
       "    .dataframe tbody tr th {\n",
       "        vertical-align: top;\n",
       "    }\n",
       "\n",
       "    .dataframe thead th {\n",
       "        text-align: right;\n",
       "    }\n",
       "</style>\n",
       "<table border=\"1\" class=\"dataframe\">\n",
       "  <thead>\n",
       "    <tr style=\"text-align: right;\">\n",
       "      <th></th>\n",
       "      <th>Retailer</th>\n",
       "      <th>Retailer ID</th>\n",
       "      <th>Invoice Date</th>\n",
       "      <th>Region</th>\n",
       "      <th>State</th>\n",
       "      <th>City</th>\n",
       "      <th>Product</th>\n",
       "      <th>Price per Unit</th>\n",
       "      <th>Units Sold</th>\n",
       "      <th>Total Sales</th>\n",
       "      <th>Operating Profit</th>\n",
       "      <th>Operating Margin</th>\n",
       "      <th>Sales Method</th>\n",
       "    </tr>\n",
       "  </thead>\n",
       "  <tbody>\n",
       "    <tr>\n",
       "      <th>0</th>\n",
       "      <td>Foot Locker</td>\n",
       "      <td>1185732</td>\n",
       "      <td>1/1/2020</td>\n",
       "      <td>Northeast</td>\n",
       "      <td>New York</td>\n",
       "      <td>New York</td>\n",
       "      <td>Men's Street Footwear</td>\n",
       "      <td>$50.00</td>\n",
       "      <td>1200</td>\n",
       "      <td>$600,000</td>\n",
       "      <td>$300,000</td>\n",
       "      <td>50%</td>\n",
       "      <td>In-store</td>\n",
       "    </tr>\n",
       "    <tr>\n",
       "      <th>6</th>\n",
       "      <td>Foot Locker</td>\n",
       "      <td>1185732</td>\n",
       "      <td>1/7/2020</td>\n",
       "      <td>Northeast</td>\n",
       "      <td>New York</td>\n",
       "      <td>New York</td>\n",
       "      <td>Men's Street Footwear</td>\n",
       "      <td>$50.00</td>\n",
       "      <td>1250</td>\n",
       "      <td>$625,000</td>\n",
       "      <td>$312,500</td>\n",
       "      <td>50%</td>\n",
       "      <td>In-store</td>\n",
       "    </tr>\n",
       "    <tr>\n",
       "      <th>12</th>\n",
       "      <td>Foot Locker</td>\n",
       "      <td>1185732</td>\n",
       "      <td>1/25/2020</td>\n",
       "      <td>Northeast</td>\n",
       "      <td>New York</td>\n",
       "      <td>New York</td>\n",
       "      <td>Men's Street Footwear</td>\n",
       "      <td>$50.00</td>\n",
       "      <td>1220</td>\n",
       "      <td>$610,000</td>\n",
       "      <td>$305,000</td>\n",
       "      <td>50%</td>\n",
       "      <td>Outlet</td>\n",
       "    </tr>\n",
       "    <tr>\n",
       "      <th>18</th>\n",
       "      <td>Foot Locker</td>\n",
       "      <td>1185732</td>\n",
       "      <td>1/31/2020</td>\n",
       "      <td>Northeast</td>\n",
       "      <td>New York</td>\n",
       "      <td>New York</td>\n",
       "      <td>Men's Street Footwear</td>\n",
       "      <td>$50.00</td>\n",
       "      <td>1200</td>\n",
       "      <td>$600,000</td>\n",
       "      <td>$300,000</td>\n",
       "      <td>50%</td>\n",
       "      <td>Outlet</td>\n",
       "    </tr>\n",
       "    <tr>\n",
       "      <th>24</th>\n",
       "      <td>Foot Locker</td>\n",
       "      <td>1185732</td>\n",
       "      <td>2/6/2020</td>\n",
       "      <td>Northeast</td>\n",
       "      <td>New York</td>\n",
       "      <td>New York</td>\n",
       "      <td>Men's Street Footwear</td>\n",
       "      <td>$60.00</td>\n",
       "      <td>1220</td>\n",
       "      <td>$732,000</td>\n",
       "      <td>$366,000</td>\n",
       "      <td>50%</td>\n",
       "      <td>Outlet</td>\n",
       "    </tr>\n",
       "  </tbody>\n",
       "</table>\n",
       "</div>"
      ],
      "text/plain": [
       "       Retailer  Retailer ID Invoice Date     Region     State      City  \\\n",
       "0   Foot Locker      1185732     1/1/2020  Northeast  New York  New York   \n",
       "6   Foot Locker      1185732     1/7/2020  Northeast  New York  New York   \n",
       "12  Foot Locker      1185732    1/25/2020  Northeast  New York  New York   \n",
       "18  Foot Locker      1185732    1/31/2020  Northeast  New York  New York   \n",
       "24  Foot Locker      1185732     2/6/2020  Northeast  New York  New York   \n",
       "\n",
       "                  Product Price per Unit  Units Sold Total Sales  \\\n",
       "0   Men's Street Footwear        $50.00         1200   $600,000    \n",
       "6   Men's Street Footwear        $50.00         1250   $625,000    \n",
       "12  Men's Street Footwear        $50.00         1220   $610,000    \n",
       "18  Men's Street Footwear        $50.00         1200   $600,000    \n",
       "24  Men's Street Footwear        $60.00         1220   $732,000    \n",
       "\n",
       "   Operating Profit Operating Margin Sales Method  \n",
       "0         $300,000               50%     In-store  \n",
       "6         $312,500               50%     In-store  \n",
       "12        $305,000               50%       Outlet  \n",
       "18        $300,000               50%       Outlet  \n",
       "24        $366,000               50%       Outlet  "
      ]
     },
     "execution_count": 63,
     "metadata": {},
     "output_type": "execute_result"
    }
   ],
   "source": [
    "# selecting records with more than 1000 units sold\n",
    "df[df[\"Units Sold\"] > 1000].head()"
   ]
  },
  {
   "cell_type": "markdown",
   "id": "4501ef17-9111-432b-be03-dbb1b579064b",
   "metadata": {},
   "source": [
    "### Grouping and aggregations\n",
    "\n",
    "To perform grouping and aggregation in Pandas, you can use\n",
    "the `groupby()` function. This function groups the data frame\n",
    "by one or more columns and returns a `groupby` object, which\n",
    "can then be used to apply aggregate functions to each group."
   ]
  },
  {
   "cell_type": "code",
   "execution_count": 28,
   "id": "bb317d4a-2261-401b-a89b-ee2e2c5943f7",
   "metadata": {
    "tags": []
   },
   "outputs": [],
   "source": [
    "# grouped by retailer\n",
    "grouped_by_retailer = df.groupby(\"Retailer\")"
   ]
  },
  {
   "cell_type": "code",
   "execution_count": 43,
   "id": "730ec289-6930-4e02-b666-74b6010c59ab",
   "metadata": {
    "tags": []
   },
   "outputs": [
    {
     "name": "stdout",
     "output_type": "stream",
     "text": [
      "Number of retailers - 6\n"
     ]
    }
   ],
   "source": [
    "# printing the number of groups or number of different retailers, in our case, we have in the dataframe\n",
    "print(\"Number of retailers -\", len(grouped_by_retailer))"
   ]
  },
  {
   "cell_type": "code",
   "execution_count": 44,
   "id": "ed2c938c-0cb5-4773-95b2-a67fd058fee5",
   "metadata": {
    "tags": []
   },
   "outputs": [
    {
     "name": "stdout",
     "output_type": "stream",
     "text": [
      "Type of grouped_by_retailer: <class 'pandas.core.groupby.generic.DataFrameGroupBy'>\n"
     ]
    }
   ],
   "source": [
    "print(f\"Type of grouped_by_retailer: {type(grouped_by_retailer)}\")"
   ]
  },
  {
   "cell_type": "markdown",
   "id": "27d41a42-8a33-48ad-9775-979b09c875fe",
   "metadata": {},
   "source": [
    "Aggregations in Pandas refer to the process of applying a\n",
    "function to a group of data in a data frame. This is\n",
    "typically done using the groupby() function, which groups\n",
    "the data by one or more columns and returns a groupby\n",
    "object. Once the data is grouped, you can apply an aggregate\n",
    "function to each group to calculate a summary statistic,\n",
    "such as the sum, mean, or count of a particular column. Some\n",
    "common aggregate functions in Pandas include sum(), mean(),\n",
    "count(), max(), and min(). Aggregations are a powerful tool\n",
    "for data analysis and can help you gain insights into your\n",
    "data by summarizing it in meaningful ways.\n",
    "\n",
    "NB: Aggregations can be applied to a dataframe without grouping the data"
   ]
  },
  {
   "cell_type": "code",
   "execution_count": 47,
   "id": "8bf95423-54bf-483f-9df8-bc27496d5da5",
   "metadata": {
    "tags": []
   },
   "outputs": [
    {
     "name": "stdout",
     "output_type": "stream",
     "text": [
      "Total units sold at Amazon - 197990\n",
      "Total units sold at Foot Locker - 604369\n",
      "Total units sold at Kohl's - 287375\n",
      "Total units sold at Sports Direct - 557640\n",
      "Total units sold at Walmart - 206225\n",
      "Total units sold at West Gear - 625262\n"
     ]
    }
   ],
   "source": [
    "# calculating total units sold per group\n",
    "for group in grouped_by_retailer:\n",
    "    group_name, group_data = group\n",
    "    \n",
    "    total_sales_per_group = group_data[\"Units Sold\"].sum()\n",
    "    print(f\"Total units sold at {group_name} -\", total_sales_per_group)\n",
    "    \n",
    "# you can try the other aggregation functions like sum(), mean(), max() and min()"
   ]
  },
  {
   "cell_type": "markdown",
   "id": "e4121e48-c693-4adf-83f6-4bbed0b31813",
   "metadata": {
    "tags": []
   },
   "source": [
    "### Sorting data\n",
    "\n",
    "To sort data in Pandas, you can use the `sort_values()`\n",
    "function. This function sorts the data frame by one or more\n",
    "columns in ascending or descending order.``` sorted_df = df.sort_values('sales_amount',\n",
    "ascending=False) ```  This code sorts the data frame by the\n",
    "'sales_amount' column in descending order and returns a new\n",
    "data frame called sorted_df. You can also sort by multiple\n",
    "columns by passing a list of column names to the\n",
    "sort_values() function.   There are many other options\n",
    "available in the sort_values() function, including sorting\n",
    "by a specific data type, handling missing values, and\n",
    "specifying the sorting algorithm. Sorting is an important\n",
    "data manipulation task in Pandas and can help you organize\n",
    "your data for analysis and visualization.\n"
   ]
  },
  {
   "cell_type": "code",
   "execution_count": 50,
   "id": "070e889d-179d-4ab3-a73e-fdd74903706f",
   "metadata": {
    "tags": []
   },
   "outputs": [
    {
     "data": {
      "text/html": [
       "<div>\n",
       "<style scoped>\n",
       "    .dataframe tbody tr th:only-of-type {\n",
       "        vertical-align: middle;\n",
       "    }\n",
       "\n",
       "    .dataframe tbody tr th {\n",
       "        vertical-align: top;\n",
       "    }\n",
       "\n",
       "    .dataframe thead th {\n",
       "        text-align: right;\n",
       "    }\n",
       "</style>\n",
       "<table border=\"1\" class=\"dataframe\">\n",
       "  <thead>\n",
       "    <tr style=\"text-align: right;\">\n",
       "      <th></th>\n",
       "      <th>Retailer</th>\n",
       "      <th>Retailer ID</th>\n",
       "      <th>Invoice Date</th>\n",
       "      <th>Region</th>\n",
       "      <th>State</th>\n",
       "      <th>City</th>\n",
       "      <th>Product</th>\n",
       "      <th>Price per Unit</th>\n",
       "      <th>Units Sold</th>\n",
       "      <th>Total Sales</th>\n",
       "      <th>Operating Profit</th>\n",
       "      <th>Operating Margin</th>\n",
       "      <th>Sales Method</th>\n",
       "    </tr>\n",
       "  </thead>\n",
       "  <tbody>\n",
       "    <tr>\n",
       "      <th>36</th>\n",
       "      <td>Foot Locker</td>\n",
       "      <td>1185732</td>\n",
       "      <td>3/10/2020</td>\n",
       "      <td>Northeast</td>\n",
       "      <td>New York</td>\n",
       "      <td>New York</td>\n",
       "      <td>Men's Street Footwear</td>\n",
       "      <td>$60.00</td>\n",
       "      <td>1275</td>\n",
       "      <td>$765,000</td>\n",
       "      <td>$382,500</td>\n",
       "      <td>50%</td>\n",
       "      <td>Outlet</td>\n",
       "    </tr>\n",
       "    <tr>\n",
       "      <th>6</th>\n",
       "      <td>Foot Locker</td>\n",
       "      <td>1185732</td>\n",
       "      <td>1/7/2020</td>\n",
       "      <td>Northeast</td>\n",
       "      <td>New York</td>\n",
       "      <td>New York</td>\n",
       "      <td>Men's Street Footwear</td>\n",
       "      <td>$50.00</td>\n",
       "      <td>1250</td>\n",
       "      <td>$625,000</td>\n",
       "      <td>$312,500</td>\n",
       "      <td>50%</td>\n",
       "      <td>In-store</td>\n",
       "    </tr>\n",
       "    <tr>\n",
       "      <th>30</th>\n",
       "      <td>Foot Locker</td>\n",
       "      <td>1185732</td>\n",
       "      <td>3/4/2020</td>\n",
       "      <td>Northeast</td>\n",
       "      <td>New York</td>\n",
       "      <td>New York</td>\n",
       "      <td>Men's Street Footwear</td>\n",
       "      <td>$60.00</td>\n",
       "      <td>1250</td>\n",
       "      <td>$750,000</td>\n",
       "      <td>$375,000</td>\n",
       "      <td>50%</td>\n",
       "      <td>Outlet</td>\n",
       "    </tr>\n",
       "    <tr>\n",
       "      <th>42</th>\n",
       "      <td>Foot Locker</td>\n",
       "      <td>1185732</td>\n",
       "      <td>3/16/2020</td>\n",
       "      <td>Northeast</td>\n",
       "      <td>New York</td>\n",
       "      <td>New York</td>\n",
       "      <td>Men's Street Footwear</td>\n",
       "      <td>$60.00</td>\n",
       "      <td>1250</td>\n",
       "      <td>$750,000</td>\n",
       "      <td>$375,000</td>\n",
       "      <td>50%</td>\n",
       "      <td>Outlet</td>\n",
       "    </tr>\n",
       "    <tr>\n",
       "      <th>24</th>\n",
       "      <td>Foot Locker</td>\n",
       "      <td>1185732</td>\n",
       "      <td>2/6/2020</td>\n",
       "      <td>Northeast</td>\n",
       "      <td>New York</td>\n",
       "      <td>New York</td>\n",
       "      <td>Men's Street Footwear</td>\n",
       "      <td>$60.00</td>\n",
       "      <td>1220</td>\n",
       "      <td>$732,000</td>\n",
       "      <td>$366,000</td>\n",
       "      <td>50%</td>\n",
       "      <td>Outlet</td>\n",
       "    </tr>\n",
       "  </tbody>\n",
       "</table>\n",
       "</div>"
      ],
      "text/plain": [
       "       Retailer  Retailer ID Invoice Date     Region     State      City  \\\n",
       "36  Foot Locker      1185732    3/10/2020  Northeast  New York  New York   \n",
       "6   Foot Locker      1185732     1/7/2020  Northeast  New York  New York   \n",
       "30  Foot Locker      1185732     3/4/2020  Northeast  New York  New York   \n",
       "42  Foot Locker      1185732    3/16/2020  Northeast  New York  New York   \n",
       "24  Foot Locker      1185732     2/6/2020  Northeast  New York  New York   \n",
       "\n",
       "                  Product Price per Unit  Units Sold Total Sales  \\\n",
       "36  Men's Street Footwear        $60.00         1275   $765,000    \n",
       "6   Men's Street Footwear        $50.00         1250   $625,000    \n",
       "30  Men's Street Footwear        $60.00         1250   $750,000    \n",
       "42  Men's Street Footwear        $60.00         1250   $750,000    \n",
       "24  Men's Street Footwear        $60.00         1220   $732,000    \n",
       "\n",
       "   Operating Profit Operating Margin Sales Method  \n",
       "36        $382,500               50%       Outlet  \n",
       "6         $312,500               50%     In-store  \n",
       "30        $375,000               50%       Outlet  \n",
       "42        $375,000               50%       Outlet  \n",
       "24        $366,000               50%       Outlet  "
      ]
     },
     "execution_count": 50,
     "metadata": {},
     "output_type": "execute_result"
    }
   ],
   "source": [
    "# sort the data by number of units sold\n",
    "# records with the most units sold will appear at the top\n",
    "sorted_df = df.sort_values('Units Sold', ascending=False)\n",
    "sorted_df.head()"
   ]
  },
  {
   "cell_type": "code",
   "execution_count": 51,
   "id": "2baa2799-9c87-43b1-aa94-bbf09afd9f21",
   "metadata": {
    "tags": []
   },
   "outputs": [
    {
     "data": {
      "text/html": [
       "<div>\n",
       "<style scoped>\n",
       "    .dataframe tbody tr th:only-of-type {\n",
       "        vertical-align: middle;\n",
       "    }\n",
       "\n",
       "    .dataframe tbody tr th {\n",
       "        vertical-align: top;\n",
       "    }\n",
       "\n",
       "    .dataframe thead th {\n",
       "        text-align: right;\n",
       "    }\n",
       "</style>\n",
       "<table border=\"1\" class=\"dataframe\">\n",
       "  <thead>\n",
       "    <tr style=\"text-align: right;\">\n",
       "      <th></th>\n",
       "      <th>Retailer</th>\n",
       "      <th>Retailer ID</th>\n",
       "      <th>Invoice Date</th>\n",
       "      <th>Region</th>\n",
       "      <th>State</th>\n",
       "      <th>City</th>\n",
       "      <th>Product</th>\n",
       "      <th>Price per Unit</th>\n",
       "      <th>Units Sold</th>\n",
       "      <th>Total Sales</th>\n",
       "      <th>Operating Profit</th>\n",
       "      <th>Operating Margin</th>\n",
       "      <th>Sales Method</th>\n",
       "    </tr>\n",
       "  </thead>\n",
       "  <tbody>\n",
       "    <tr>\n",
       "      <th>4914</th>\n",
       "      <td>Foot Locker</td>\n",
       "      <td>1185732</td>\n",
       "      <td>6/12/2021</td>\n",
       "      <td>Midwest</td>\n",
       "      <td>Nebraska</td>\n",
       "      <td>Omaha</td>\n",
       "      <td>Men's Apparel</td>\n",
       "      <td>$42.00</td>\n",
       "      <td>6</td>\n",
       "      <td>$252</td>\n",
       "      <td>$121</td>\n",
       "      <td>48%</td>\n",
       "      <td>Online</td>\n",
       "    </tr>\n",
       "    <tr>\n",
       "      <th>4907</th>\n",
       "      <td>Foot Locker</td>\n",
       "      <td>1185732</td>\n",
       "      <td>6/5/2021</td>\n",
       "      <td>Midwest</td>\n",
       "      <td>Nebraska</td>\n",
       "      <td>Omaha</td>\n",
       "      <td>Women's Athletic Footwear</td>\n",
       "      <td>$33.00</td>\n",
       "      <td>0</td>\n",
       "      <td>$0</td>\n",
       "      <td>$0</td>\n",
       "      <td>55%</td>\n",
       "      <td>Online</td>\n",
       "    </tr>\n",
       "    <tr>\n",
       "      <th>4913</th>\n",
       "      <td>Foot Locker</td>\n",
       "      <td>1185732</td>\n",
       "      <td>6/11/2021</td>\n",
       "      <td>Midwest</td>\n",
       "      <td>Nebraska</td>\n",
       "      <td>Omaha</td>\n",
       "      <td>Women's Athletic Footwear</td>\n",
       "      <td>$27.00</td>\n",
       "      <td>0</td>\n",
       "      <td>$0</td>\n",
       "      <td>$0</td>\n",
       "      <td>53%</td>\n",
       "      <td>Online</td>\n",
       "    </tr>\n",
       "    <tr>\n",
       "      <th>1019</th>\n",
       "      <td>Foot Locker</td>\n",
       "      <td>1185732</td>\n",
       "      <td>6/5/2021</td>\n",
       "      <td>Midwest</td>\n",
       "      <td>Nebraska</td>\n",
       "      <td>Omaha</td>\n",
       "      <td>Women's Athletic Footwear</td>\n",
       "      <td>$35.00</td>\n",
       "      <td>0</td>\n",
       "      <td>$0</td>\n",
       "      <td>$0</td>\n",
       "      <td>40%</td>\n",
       "      <td>Outlet</td>\n",
       "    </tr>\n",
       "    <tr>\n",
       "      <th>1025</th>\n",
       "      <td>Foot Locker</td>\n",
       "      <td>1185732</td>\n",
       "      <td>6/11/2021</td>\n",
       "      <td>Midwest</td>\n",
       "      <td>Nebraska</td>\n",
       "      <td>Omaha</td>\n",
       "      <td>Women's Athletic Footwear</td>\n",
       "      <td>$30.00</td>\n",
       "      <td>0</td>\n",
       "      <td>$0</td>\n",
       "      <td>$0</td>\n",
       "      <td>40%</td>\n",
       "      <td>Outlet</td>\n",
       "    </tr>\n",
       "  </tbody>\n",
       "</table>\n",
       "</div>"
      ],
      "text/plain": [
       "         Retailer  Retailer ID Invoice Date   Region     State   City  \\\n",
       "4914  Foot Locker      1185732    6/12/2021  Midwest  Nebraska  Omaha   \n",
       "4907  Foot Locker      1185732     6/5/2021  Midwest  Nebraska  Omaha   \n",
       "4913  Foot Locker      1185732    6/11/2021  Midwest  Nebraska  Omaha   \n",
       "1019  Foot Locker      1185732     6/5/2021  Midwest  Nebraska  Omaha   \n",
       "1025  Foot Locker      1185732    6/11/2021  Midwest  Nebraska  Omaha   \n",
       "\n",
       "                        Product Price per Unit  Units Sold Total Sales  \\\n",
       "4914              Men's Apparel        $42.00            6       $252    \n",
       "4907  Women's Athletic Footwear        $33.00            0         $0    \n",
       "4913  Women's Athletic Footwear        $27.00            0         $0    \n",
       "1019  Women's Athletic Footwear        $35.00            0         $0    \n",
       "1025  Women's Athletic Footwear        $30.00            0         $0    \n",
       "\n",
       "     Operating Profit Operating Margin Sales Method  \n",
       "4914            $121               48%       Online  \n",
       "4907              $0               55%       Online  \n",
       "4913              $0               53%       Online  \n",
       "1019              $0               40%       Outlet  \n",
       "1025              $0               40%       Outlet  "
      ]
     },
     "execution_count": 51,
     "metadata": {},
     "output_type": "execute_result"
    }
   ],
   "source": [
    "# records with the least units sold will appear at the bottom\n",
    "sorted_df.tail()"
   ]
  },
  {
   "cell_type": "code",
   "execution_count": null,
   "id": "5a6b1aaf-152b-4680-ba92-236f961e575f",
   "metadata": {},
   "outputs": [],
   "source": []
  }
 ],
 "metadata": {
  "kernelspec": {
   "display_name": "Python 3 (ipykernel)",
   "language": "python",
   "name": "python3"
  },
  "language_info": {
   "codemirror_mode": {
    "name": "ipython",
    "version": 3
   },
   "file_extension": ".py",
   "mimetype": "text/x-python",
   "name": "python",
   "nbconvert_exporter": "python",
   "pygments_lexer": "ipython3",
   "version": "3.10.6"
  }
 },
 "nbformat": 4,
 "nbformat_minor": 5
}
