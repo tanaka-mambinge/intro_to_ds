{
 "cells": [
  {
   "cell_type": "markdown",
   "id": "a2839c45-2921-4fa4-8f2e-8cfcba588cf9",
   "metadata": {},
   "source": [
    "# Intro to matplotlib\n",
    "\n",
    "Matplotlib is a data visualization library in Python that\n",
    "provides a wide range of functions and tools for creating\n",
    "different types of plots and charts. It is one of the most\n",
    "widely used data visualization libraries in the Python\n",
    "ecosystem and is often used in conjunction with other\n",
    "libraries such as NumPy and Pandas."
   ]
  },
  {
   "cell_type": "markdown",
   "id": "42c03306-5188-4ec9-9ad5-3ebc9af1062c",
   "metadata": {},
   "source": [
    "### Import libraries"
   ]
  },
  {
   "cell_type": "code",
   "execution_count": 2,
   "id": "b2c7883e-c0da-4bfa-9f8f-0c16cd387001",
   "metadata": {
    "tags": []
   },
   "outputs": [],
   "source": [
    "import matplotlib.pyplot as plt\n",
    "import pandas as pd"
   ]
  },
  {
   "cell_type": "markdown",
   "id": "317aa17e-db07-4f01-8c8c-5055aa9a4299",
   "metadata": {},
   "source": [
    "### Import data"
   ]
  },
  {
   "cell_type": "code",
   "execution_count": 52,
   "id": "988e629b-6edf-4eca-b567-df18643117a3",
   "metadata": {
    "tags": []
   },
   "outputs": [],
   "source": [
    "df = pd.read_csv(\"data/Adidas US Sales Datasets.csv\")"
   ]
  },
  {
   "cell_type": "code",
   "execution_count": 53,
   "id": "50ffdeb0-22d0-4463-b138-beed4808ea63",
   "metadata": {
    "tags": []
   },
   "outputs": [
    {
     "data": {
      "text/html": [
       "<div>\n",
       "<style scoped>\n",
       "    .dataframe tbody tr th:only-of-type {\n",
       "        vertical-align: middle;\n",
       "    }\n",
       "\n",
       "    .dataframe tbody tr th {\n",
       "        vertical-align: top;\n",
       "    }\n",
       "\n",
       "    .dataframe thead th {\n",
       "        text-align: right;\n",
       "    }\n",
       "</style>\n",
       "<table border=\"1\" class=\"dataframe\">\n",
       "  <thead>\n",
       "    <tr style=\"text-align: right;\">\n",
       "      <th></th>\n",
       "      <th>Retailer</th>\n",
       "      <th>Retailer ID</th>\n",
       "      <th>Invoice Date</th>\n",
       "      <th>Region</th>\n",
       "      <th>State</th>\n",
       "      <th>City</th>\n",
       "      <th>Product</th>\n",
       "      <th>Price per Unit</th>\n",
       "      <th>Units Sold</th>\n",
       "      <th>Total Sales</th>\n",
       "      <th>Operating Profit</th>\n",
       "      <th>Operating Margin</th>\n",
       "      <th>Sales Method</th>\n",
       "    </tr>\n",
       "  </thead>\n",
       "  <tbody>\n",
       "    <tr>\n",
       "      <th>0</th>\n",
       "      <td>Foot Locker</td>\n",
       "      <td>1185732</td>\n",
       "      <td>1/1/2020</td>\n",
       "      <td>Northeast</td>\n",
       "      <td>New York</td>\n",
       "      <td>New York</td>\n",
       "      <td>Men's Street Footwear</td>\n",
       "      <td>$50.00</td>\n",
       "      <td>1,200</td>\n",
       "      <td>$600,000</td>\n",
       "      <td>$300,000</td>\n",
       "      <td>50%</td>\n",
       "      <td>In-store</td>\n",
       "    </tr>\n",
       "    <tr>\n",
       "      <th>1</th>\n",
       "      <td>Foot Locker</td>\n",
       "      <td>1185732</td>\n",
       "      <td>1/2/2020</td>\n",
       "      <td>Northeast</td>\n",
       "      <td>New York</td>\n",
       "      <td>New York</td>\n",
       "      <td>Men's Athletic Footwear</td>\n",
       "      <td>$50.00</td>\n",
       "      <td>1,000</td>\n",
       "      <td>$500,000</td>\n",
       "      <td>$150,000</td>\n",
       "      <td>30%</td>\n",
       "      <td>In-store</td>\n",
       "    </tr>\n",
       "    <tr>\n",
       "      <th>2</th>\n",
       "      <td>Foot Locker</td>\n",
       "      <td>1185732</td>\n",
       "      <td>1/3/2020</td>\n",
       "      <td>Northeast</td>\n",
       "      <td>New York</td>\n",
       "      <td>New York</td>\n",
       "      <td>Women's Street Footwear</td>\n",
       "      <td>$40.00</td>\n",
       "      <td>1,000</td>\n",
       "      <td>$400,000</td>\n",
       "      <td>$140,000</td>\n",
       "      <td>35%</td>\n",
       "      <td>In-store</td>\n",
       "    </tr>\n",
       "    <tr>\n",
       "      <th>3</th>\n",
       "      <td>Foot Locker</td>\n",
       "      <td>1185732</td>\n",
       "      <td>1/4/2020</td>\n",
       "      <td>Northeast</td>\n",
       "      <td>New York</td>\n",
       "      <td>New York</td>\n",
       "      <td>Women's Athletic Footwear</td>\n",
       "      <td>$45.00</td>\n",
       "      <td>850</td>\n",
       "      <td>$382,500</td>\n",
       "      <td>$133,875</td>\n",
       "      <td>35%</td>\n",
       "      <td>In-store</td>\n",
       "    </tr>\n",
       "    <tr>\n",
       "      <th>4</th>\n",
       "      <td>Foot Locker</td>\n",
       "      <td>1185732</td>\n",
       "      <td>1/5/2020</td>\n",
       "      <td>Northeast</td>\n",
       "      <td>New York</td>\n",
       "      <td>New York</td>\n",
       "      <td>Men's Apparel</td>\n",
       "      <td>$60.00</td>\n",
       "      <td>900</td>\n",
       "      <td>$540,000</td>\n",
       "      <td>$162,000</td>\n",
       "      <td>30%</td>\n",
       "      <td>In-store</td>\n",
       "    </tr>\n",
       "  </tbody>\n",
       "</table>\n",
       "</div>"
      ],
      "text/plain": [
       "      Retailer  Retailer ID Invoice Date     Region     State      City  \\\n",
       "0  Foot Locker      1185732     1/1/2020  Northeast  New York  New York   \n",
       "1  Foot Locker      1185732     1/2/2020  Northeast  New York  New York   \n",
       "2  Foot Locker      1185732     1/3/2020  Northeast  New York  New York   \n",
       "3  Foot Locker      1185732     1/4/2020  Northeast  New York  New York   \n",
       "4  Foot Locker      1185732     1/5/2020  Northeast  New York  New York   \n",
       "\n",
       "                     Product Price per Unit Units Sold Total Sales  \\\n",
       "0      Men's Street Footwear        $50.00       1,200   $600,000    \n",
       "1    Men's Athletic Footwear        $50.00       1,000   $500,000    \n",
       "2    Women's Street Footwear        $40.00       1,000   $400,000    \n",
       "3  Women's Athletic Footwear        $45.00         850   $382,500    \n",
       "4              Men's Apparel        $60.00         900   $540,000    \n",
       "\n",
       "  Operating Profit Operating Margin Sales Method  \n",
       "0        $300,000               50%     In-store  \n",
       "1        $150,000               30%     In-store  \n",
       "2        $140,000               35%     In-store  \n",
       "3        $133,875               35%     In-store  \n",
       "4        $162,000               30%     In-store  "
      ]
     },
     "execution_count": 53,
     "metadata": {},
     "output_type": "execute_result"
    }
   ],
   "source": [
    "df.head()"
   ]
  },
  {
   "cell_type": "code",
   "execution_count": 54,
   "id": "cc491160-e4c5-47d7-9b9f-751320b38597",
   "metadata": {
    "tags": []
   },
   "outputs": [],
   "source": [
    "# converting 'Units Sold' from str to int by using the apply function\n",
    "def convert_str_to_int(text):\n",
    "    text = text.replace(\n",
    "        \",\", \"\"\n",
    "    )  # replace the comma in the string to avoid getting errors\n",
    "    converted_text = int(text)  # coverting the string to an integer\n",
    "    return converted_text\n",
    "\n",
    "\n",
    "df[\"Units Sold\"] = df[\"Units Sold\"].apply(convert_str_to_int)"
   ]
  },
  {
   "cell_type": "code",
   "execution_count": 55,
   "id": "0ed14d45-e78e-44c0-9b90-d0078a0dde05",
   "metadata": {
    "tags": []
   },
   "outputs": [],
   "source": [
    "# group data by retailer\n",
    "grouped_by_retailer = df.groupby(\"Retailer\")"
   ]
  },
  {
   "cell_type": "code",
   "execution_count": 56,
   "id": "e4585094-276a-4868-bb17-3e3d69927ab9",
   "metadata": {
    "tags": []
   },
   "outputs": [],
   "source": [
    "# calculate total sales volume per retailer\n",
    "total_sales_volume_retailer = []\n",
    "\n",
    "for group in grouped_by_retailer:\n",
    "    group_name, group_data = group\n",
    "\n",
    "    total_units_sold = group_data[\"Units Sold\"].sum()\n",
    "    total_sales_volume_retailer.append([group_name, total_units_sold])"
   ]
  },
  {
   "cell_type": "code",
   "execution_count": 62,
   "id": "e12a92e4-77e8-4ed0-a5d4-b887522b62c2",
   "metadata": {
    "tags": []
   },
   "outputs": [],
   "source": [
    "# create new dataframe from total sales\n",
    "df_total_volume = pd.DataFrame(\n",
    "    data=total_sales_volume_retailer, columns=[\"retailer\", \"total_volume\"]\n",
    ")"
   ]
  },
  {
   "cell_type": "markdown",
   "id": "17cbde14-a60a-4b3a-a8b8-71cdd23f0578",
   "metadata": {},
   "source": [
    "### Plotting data"
   ]
  },
  {
   "cell_type": "code",
   "execution_count": 64,
   "id": "1548b4b0-5597-4633-8c24-f9a3d110ac55",
   "metadata": {
    "tags": []
   },
   "outputs": [
    {
     "data": {
      "image/png": "[encoded data removed]",
      "text/plain": [
       "<Figure size 640x480 with 1 Axes>"
      ]
     },
     "metadata": {},
     "output_type": "display_data"
    }
   ],
   "source": [
    "# plot bar chart of total units sold by each retailer\n",
    "plt.bar(\n",
    "    x=df_total_volume[\"retailer\"],  # data to be displayed on the x-axis,\n",
    "    height=df_total_volume[\"total_volume\"],  # data to be displayed on the y-axis\n",
    ")\n",
    "plt.xlabel(\"Retailer\")  # label the x-axis\n",
    "plt.ylabel(\"Total units sold\")  # label the y-axis\n",
    "plt.show()  # display the bar chart"
   ]
  },
  {
   "cell_type": "markdown",
   "id": "af1b6236-a303-4893-a380-a3fd4b864414",
   "metadata": {},
   "source": [
    "### Plotting a pie chart showing market share"
   ]
  },
  {
   "cell_type": "code",
   "execution_count": 59,
   "id": "0fd24604-9d54-43a2-aa4c-8c0c74a27a6f",
   "metadata": {
    "tags": []
   },
   "outputs": [],
   "source": [
    "# converting 'Price per unit' from str to int by using the apply function\n",
    "def convert_str_to_float(text):\n",
    "    text = text.replace(\n",
    "        \"$\", \"\"\n",
    "    )  # replace the $ in the string to prevent errors during conversion\n",
    "    converted_text = float(text)  # coverting the string to an float\n",
    "    return converted_text\n",
    "\n",
    "\n",
    "df[\"Price per Unit\"] = df[\"Price per Unit\"].apply(convert_str_to_float)"
   ]
  },
  {
   "cell_type": "code",
   "execution_count": 60,
   "id": "a0f2844e-cc02-4045-9f9c-460da6cdd27e",
   "metadata": {
    "tags": []
   },
   "outputs": [
    {
     "data": {
      "text/html": [
       "<div>\n",
       "<style scoped>\n",
       "    .dataframe tbody tr th:only-of-type {\n",
       "        vertical-align: middle;\n",
       "    }\n",
       "\n",
       "    .dataframe tbody tr th {\n",
       "        vertical-align: top;\n",
       "    }\n",
       "\n",
       "    .dataframe thead th {\n",
       "        text-align: right;\n",
       "    }\n",
       "</style>\n",
       "<table border=\"1\" class=\"dataframe\">\n",
       "  <thead>\n",
       "    <tr style=\"text-align: right;\">\n",
       "      <th></th>\n",
       "      <th>Retailer</th>\n",
       "      <th>Retailer ID</th>\n",
       "      <th>Invoice Date</th>\n",
       "      <th>Region</th>\n",
       "      <th>State</th>\n",
       "      <th>City</th>\n",
       "      <th>Product</th>\n",
       "      <th>Price per Unit</th>\n",
       "      <th>Units Sold</th>\n",
       "      <th>Total Sales</th>\n",
       "      <th>Operating Profit</th>\n",
       "      <th>Operating Margin</th>\n",
       "      <th>Sales Method</th>\n",
       "    </tr>\n",
       "  </thead>\n",
       "  <tbody>\n",
       "    <tr>\n",
       "      <th>0</th>\n",
       "      <td>Foot Locker</td>\n",
       "      <td>1185732</td>\n",
       "      <td>1/1/2020</td>\n",
       "      <td>Northeast</td>\n",
       "      <td>New York</td>\n",
       "      <td>New York</td>\n",
       "      <td>Men's Street Footwear</td>\n",
       "      <td>50.0</td>\n",
       "      <td>1200</td>\n",
       "      <td>$600,000</td>\n",
       "      <td>$300,000</td>\n",
       "      <td>50%</td>\n",
       "      <td>In-store</td>\n",
       "    </tr>\n",
       "    <tr>\n",
       "      <th>1</th>\n",
       "      <td>Foot Locker</td>\n",
       "      <td>1185732</td>\n",
       "      <td>1/2/2020</td>\n",
       "      <td>Northeast</td>\n",
       "      <td>New York</td>\n",
       "      <td>New York</td>\n",
       "      <td>Men's Athletic Footwear</td>\n",
       "      <td>50.0</td>\n",
       "      <td>1000</td>\n",
       "      <td>$500,000</td>\n",
       "      <td>$150,000</td>\n",
       "      <td>30%</td>\n",
       "      <td>In-store</td>\n",
       "    </tr>\n",
       "    <tr>\n",
       "      <th>2</th>\n",
       "      <td>Foot Locker</td>\n",
       "      <td>1185732</td>\n",
       "      <td>1/3/2020</td>\n",
       "      <td>Northeast</td>\n",
       "      <td>New York</td>\n",
       "      <td>New York</td>\n",
       "      <td>Women's Street Footwear</td>\n",
       "      <td>40.0</td>\n",
       "      <td>1000</td>\n",
       "      <td>$400,000</td>\n",
       "      <td>$140,000</td>\n",
       "      <td>35%</td>\n",
       "      <td>In-store</td>\n",
       "    </tr>\n",
       "    <tr>\n",
       "      <th>3</th>\n",
       "      <td>Foot Locker</td>\n",
       "      <td>1185732</td>\n",
       "      <td>1/4/2020</td>\n",
       "      <td>Northeast</td>\n",
       "      <td>New York</td>\n",
       "      <td>New York</td>\n",
       "      <td>Women's Athletic Footwear</td>\n",
       "      <td>45.0</td>\n",
       "      <td>850</td>\n",
       "      <td>$382,500</td>\n",
       "      <td>$133,875</td>\n",
       "      <td>35%</td>\n",
       "      <td>In-store</td>\n",
       "    </tr>\n",
       "    <tr>\n",
       "      <th>4</th>\n",
       "      <td>Foot Locker</td>\n",
       "      <td>1185732</td>\n",
       "      <td>1/5/2020</td>\n",
       "      <td>Northeast</td>\n",
       "      <td>New York</td>\n",
       "      <td>New York</td>\n",
       "      <td>Men's Apparel</td>\n",
       "      <td>60.0</td>\n",
       "      <td>900</td>\n",
       "      <td>$540,000</td>\n",
       "      <td>$162,000</td>\n",
       "      <td>30%</td>\n",
       "      <td>In-store</td>\n",
       "    </tr>\n",
       "  </tbody>\n",
       "</table>\n",
       "</div>"
      ],
      "text/plain": [
       "      Retailer  Retailer ID Invoice Date     Region     State      City  \\\n",
       "0  Foot Locker      1185732     1/1/2020  Northeast  New York  New York   \n",
       "1  Foot Locker      1185732     1/2/2020  Northeast  New York  New York   \n",
       "2  Foot Locker      1185732     1/3/2020  Northeast  New York  New York   \n",
       "3  Foot Locker      1185732     1/4/2020  Northeast  New York  New York   \n",
       "4  Foot Locker      1185732     1/5/2020  Northeast  New York  New York   \n",
       "\n",
       "                     Product  Price per Unit  Units Sold Total Sales  \\\n",
       "0      Men's Street Footwear            50.0        1200   $600,000    \n",
       "1    Men's Athletic Footwear            50.0        1000   $500,000    \n",
       "2    Women's Street Footwear            40.0        1000   $400,000    \n",
       "3  Women's Athletic Footwear            45.0         850   $382,500    \n",
       "4              Men's Apparel            60.0         900   $540,000    \n",
       "\n",
       "  Operating Profit Operating Margin Sales Method  \n",
       "0        $300,000               50%     In-store  \n",
       "1        $150,000               30%     In-store  \n",
       "2        $140,000               35%     In-store  \n",
       "3        $133,875               35%     In-store  \n",
       "4        $162,000               30%     In-store  "
      ]
     },
     "execution_count": 60,
     "metadata": {},
     "output_type": "execute_result"
    }
   ],
   "source": [
    "# Price per unit is now a float and not a string\n",
    "df.head()"
   ]
  },
  {
   "cell_type": "code",
   "execution_count": 65,
   "id": "bdfbbcd6-4883-47e8-9c87-78446a1cb26d",
   "metadata": {
    "tags": []
   },
   "outputs": [],
   "source": [
    "# calculate total sales in $ per retailer\n",
    "total_sales_per_retailer = []\n",
    "\n",
    "for group in grouped_by_retailer:\n",
    "    group_name, group_data = group\n",
    "\n",
    "    total_sales = group_data[\"Units Sold\"] * group_data[\"Price per Unit\"]\n",
    "    total_sales_per_retailer.append([group_name, total_sales])"
   ]
  },
  {
   "cell_type": "code",
   "execution_count": 66,
   "id": "9767944e-657e-4c3c-bade-91dc5f3320b6",
   "metadata": {
    "tags": []
   },
   "outputs": [],
   "source": [
    "# create new dataframe from total sales\n",
    "df_total_sales = pd.DataFrame(\n",
    "    data=total_sales_volume_retailer, columns=[\"retailer\", \"total_sales\"]\n",
    ")"
   ]
  },
  {
   "cell_type": "code",
   "execution_count": 72,
   "id": "f8ffc58c-5bba-468f-89e9-058c4f1c5fe7",
   "metadata": {
    "tags": []
   },
   "outputs": [
    {
     "data": {
      "image/png": "[encoded data removed]",
      "text/plain": [
       "<Figure size 640x480 with 1 Axes>"
      ]
     },
     "metadata": {},
     "output_type": "display_data"
    }
   ],
   "source": [
    "plt.pie(\n",
    "    x=df_total_sales[\"total_sales\"],  # data used to divide the pie chart\n",
    "    labels=df_total_sales[\"retailer\"],  # label added to each pie section\n",
    "    autopct=lambda percentage: f\"{percentage:.1f}%\",  # display the percantage of each section to 1 decimal place\n",
    ")\n",
    "plt.title(\"Market share per retailer\")\n",
    "plt.show()"
   ]
  },
  {
   "cell_type": "code",
   "execution_count": null,
   "id": "8c9e332d-0a57-45ee-ab0b-a43c89483c3d",
   "metadata": {},
   "outputs": [],
   "source": []
  }
 ],
 "metadata": {
  "kernelspec": {
   "display_name": "Python 3 (ipykernel)",
   "language": "python",
   "name": "python3"
  },
  "language_info": {
   "codemirror_mode": {
    "name": "ipython",
    "version": 3
   },
   "file_extension": ".py",
   "mimetype": "text/x-python",
   "name": "python",
   "nbconvert_exporter": "python",
   "pygments_lexer": "ipython3",
   "version": "3.10.6"
  }
 },
 "nbformat": 4,
 "nbformat_minor": 5
}
